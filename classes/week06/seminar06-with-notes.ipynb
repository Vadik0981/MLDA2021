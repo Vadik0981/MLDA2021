{
 "cells": [
  {
   "cell_type": "markdown",
   "metadata": {},
   "source": [
    "# Семинар 6. Выбор модели. Кросс-валидация. Отбор признаков\n",
    "\n",
    "Подключение библиотек. \n",
    "$\n",
    "\\newcommand{\\R}{\\mathbb{R}}\n",
    "\\newcommand{\\X}{\\mathbb{X}}\n",
    "\\newcommand{\\norm}[1]{\\lVert #1 \\rVert}\n",
    "\\newcommand{\\abs}[1]{\\left| #1 \\right|}\n",
    "\\newcommand{\\E}{\\mathbb{E}}\n",
    "\\newcommand{\\D}{\\mathbb{D}}\n",
    "\\renewcommand{\\Prob}{\\mathbb{P}}\n",
    "\\renewcommand{\\le}{\\leqslant}\n",
    "\\renewcommand{\\ge}{\\geqslant}\n",
    "\\newcommand{\\eps}{\\varepsilon}\n",
    "\\newcommand{\\Normal}{\\mathcal{N}}\n",
    "\\DeclareMathOperator{\\TP}{TP}\n",
    "\\DeclareMathOperator{\\FP}{FP}\n",
    "\\DeclareMathOperator{\\TN}{TN}\n",
    "\\DeclareMathOperator{\\FN}{FN}\n",
    "\\DeclareMathOperator{\\Accuracy}{Accuracy}\n",
    "\\DeclareMathOperator{\\Precision}{Precision}\n",
    "\\DeclareMathOperator{\\Recall}{Recall}\n",
    "\\DeclareMathOperator{\\Fscore}{F_1}\n",
    "\\DeclareMathOperator{\\MSE}{MSE}\n",
    "\\DeclareMathOperator{\\RMSE}{RMSE}\n",
    "\\DeclareMathOperator{\\MAE}{MAE}\n",
    "\\DeclareMathOperator{\\MAPE}{MAPE}\n",
    "\\DeclareMathOperator{\\Rsqured}{R^2}\n",
    "$"
   ]
  },
  {
   "cell_type": "code",
   "execution_count": 65,
   "metadata": {},
   "outputs": [],
   "source": [
    "import numpy as np\n",
    "import pandas as pd\n",
    "\n",
    "import matplotlib.pyplot as plt\n",
    "import seaborn as sns\n",
    "import ipywidgets as wg\n",
    "\n",
    "from matplotlib.colors import ListedColormap\n",
    "\n",
    "import warnings\n",
    "warnings.filterwarnings(\"ignore\", 'This pattern has match groups')\n",
    "\n",
    "RdGn = ListedColormap(['red', 'green'])\n",
    "plt.style.use('ggplot')\n",
    "plt.rcParams['figure.figsize'] = (12, 4)"
   ]
  },
  {
   "cell_type": "code",
   "execution_count": 66,
   "metadata": {},
   "outputs": [],
   "source": [
    "from sklearn import set_config\n",
    "\n",
    "set_config(display='diagram')"
   ]
  },
  {
   "cell_type": "code",
   "execution_count": 3,
   "metadata": {},
   "outputs": [],
   "source": [
    "from sklearn.metrics import mean_absolute_error, mean_squared_error, r2_score\n",
    "\n",
    "\n",
    "def regression_metrics(true, pred, verbose=False, plot=False):\n",
    "    mae = mean_absolute_error(true, pred)\n",
    "    mape = np.abs((true - pred) / true).mean()\n",
    "    mse = mean_squared_error(true, pred)\n",
    "    rmse = np.sqrt(mse)\n",
    "    r2 = r2_score(true, pred)\n",
    "\n",
    "    if verbose:\n",
    "        print('MAE: ', mae)\n",
    "        print('MSE: ', mse)\n",
    "        print('RMSE:', rmse)\n",
    "        print('MAPE:', mape)\n",
    "        print('R2:  ', r2)\n",
    "        print()\n",
    "    \n",
    "    if plot:\n",
    "        plt.figure(0, (6, 6))\n",
    "        plt.scatter(true, pred)\n",
    "        low = min(true.min(), pred.min())\n",
    "        high = max(true.max(), pred.max())\n",
    "\n",
    "        plt.plot([low, high], [low, high], color='blue')\n",
    "        plt.xlabel('Ground Truth')\n",
    "        plt.ylabel('Prediction')\n",
    "        plt.show()\n",
    "        \n",
    "    return (mae, mse, rmse, mape, r2)"
   ]
  },
  {
   "cell_type": "markdown",
   "metadata": {},
   "source": [
    "# Задача выбора модели\n",
    "\n",
    "* __Настройка гиперпараметров:__ для конкретного вида модели выбрать наилучшие гиперпараметры (параметры обучения).\n",
    "* __Выбор вида модели и алгоритма обучения:__ выбрать один из альтернативных видов модели.\n",
    "* __Отбор признаков:__ отбросить неинформативные признаки."
   ]
  },
  {
   "cell_type": "markdown",
   "metadata": {},
   "source": [
    "# 1. Настройка гиперпараметров\n",
    "\n",
    "Датасет __mpg__. По характеристикам машины необходимо спрогнозировать расход топлива.\n",
    "\n",
    "Признаки:\n",
    "* cylinders -- число цилиндров в двигателе;\n",
    "* displacement -- рабочий объем, л;\n",
    "* horsepower -- мощность, л.с.;\n",
    "* weight -- вес, т;\n",
    "* acceleration -- ускорение;\n",
    "* model_year -- год выпуска модели;\n",
    "* origin -- производитель;\n",
    "* name -- название.\n",
    "\n",
    "Целевая переменная:\n",
    "* mpg -- миль на галлон, переведено в км/л."
   ]
  },
  {
   "cell_type": "code",
   "execution_count": 5,
   "metadata": {},
   "outputs": [
    {
     "data": {
      "text/html": [
       "<div>\n",
       "<style scoped>\n",
       "    .dataframe tbody tr th:only-of-type {\n",
       "        vertical-align: middle;\n",
       "    }\n",
       "\n",
       "    .dataframe tbody tr th {\n",
       "        vertical-align: top;\n",
       "    }\n",
       "\n",
       "    .dataframe thead th {\n",
       "        text-align: right;\n",
       "    }\n",
       "</style>\n",
       "<table border=\"1\" class=\"dataframe\">\n",
       "  <thead>\n",
       "    <tr style=\"text-align: right;\">\n",
       "      <th></th>\n",
       "      <th>mpg</th>\n",
       "      <th>cylinders</th>\n",
       "      <th>displacement</th>\n",
       "      <th>horsepower</th>\n",
       "      <th>weight</th>\n",
       "      <th>acceleration</th>\n",
       "      <th>model_year</th>\n",
       "      <th>origin</th>\n",
       "      <th>name</th>\n",
       "    </tr>\n",
       "  </thead>\n",
       "  <tbody>\n",
       "    <tr>\n",
       "      <th>0</th>\n",
       "      <td>13.067503</td>\n",
       "      <td>8</td>\n",
       "      <td>5.030840</td>\n",
       "      <td>130.0</td>\n",
       "      <td>1.589386</td>\n",
       "      <td>12.0</td>\n",
       "      <td>70</td>\n",
       "      <td>usa</td>\n",
       "      <td>chevrolet chevelle malibu</td>\n",
       "    </tr>\n",
       "    <tr>\n",
       "      <th>1</th>\n",
       "      <td>15.681004</td>\n",
       "      <td>8</td>\n",
       "      <td>5.735485</td>\n",
       "      <td>165.0</td>\n",
       "      <td>1.675115</td>\n",
       "      <td>11.5</td>\n",
       "      <td>70</td>\n",
       "      <td>usa</td>\n",
       "      <td>buick skylark 320</td>\n",
       "    </tr>\n",
       "    <tr>\n",
       "      <th>2</th>\n",
       "      <td>13.067503</td>\n",
       "      <td>8</td>\n",
       "      <td>5.211098</td>\n",
       "      <td>150.0</td>\n",
       "      <td>1.558542</td>\n",
       "      <td>11.0</td>\n",
       "      <td>70</td>\n",
       "      <td>usa</td>\n",
       "      <td>plymouth satellite</td>\n",
       "    </tr>\n",
       "    <tr>\n",
       "      <th>3</th>\n",
       "      <td>14.700941</td>\n",
       "      <td>8</td>\n",
       "      <td>4.981678</td>\n",
       "      <td>150.0</td>\n",
       "      <td>1.557181</td>\n",
       "      <td>12.0</td>\n",
       "      <td>70</td>\n",
       "      <td>usa</td>\n",
       "      <td>amc rebel sst</td>\n",
       "    </tr>\n",
       "    <tr>\n",
       "      <th>4</th>\n",
       "      <td>13.836180</td>\n",
       "      <td>8</td>\n",
       "      <td>4.948904</td>\n",
       "      <td>140.0</td>\n",
       "      <td>1.564439</td>\n",
       "      <td>10.5</td>\n",
       "      <td>70</td>\n",
       "      <td>usa</td>\n",
       "      <td>ford torino</td>\n",
       "    </tr>\n",
       "  </tbody>\n",
       "</table>\n",
       "</div>"
      ],
      "text/plain": [
       "         mpg  cylinders  displacement  horsepower    weight  acceleration  \\\n",
       "0  13.067503          8      5.030840       130.0  1.589386          12.0   \n",
       "1  15.681004          8      5.735485       165.0  1.675115          11.5   \n",
       "2  13.067503          8      5.211098       150.0  1.558542          11.0   \n",
       "3  14.700941          8      4.981678       150.0  1.557181          12.0   \n",
       "4  13.836180          8      4.948904       140.0  1.564439          10.5   \n",
       "\n",
       "   model_year origin                       name  \n",
       "0          70    usa  chevrolet chevelle malibu  \n",
       "1          70    usa          buick skylark 320  \n",
       "2          70    usa         plymouth satellite  \n",
       "3          70    usa              amc rebel sst  \n",
       "4          70    usa                ford torino  "
      ]
     },
     "execution_count": 5,
     "metadata": {},
     "output_type": "execute_result"
    }
   ],
   "source": [
    "frame = sns.load_dataset('mpg')\n",
    "frame.dropna(inplace=True)\n",
    "\n",
    "frame['displacement'] *= 16.3871 / 1000\n",
    "frame['mpg'] = 100 / (frame.mpg * 1.60934 / 3.78541)\n",
    "frame['weight'] *= 0.453592 / 1000\n",
    "\n",
    "frame.head()"
   ]
  },
  {
   "cell_type": "markdown",
   "metadata": {},
   "source": [
    "Данные к обучению:"
   ]
  },
  {
   "cell_type": "code",
   "execution_count": 6,
   "metadata": {},
   "outputs": [],
   "source": [
    "X = frame.drop(columns=['mpg', 'name']).copy()\n",
    "y = frame.mpg.copy()"
   ]
  },
  {
   "cell_type": "markdown",
   "metadata": {},
   "source": [
    "## 1.1. Метод отложенной выборки\n",
    "\n",
    "* Делим датасет на 3 части:\n",
    "    * __Train__ -- используется для обучения параметров модели.\n",
    "    * __Valid__ -- используется для оценки обобщающей способности модели и для отбора гиперпараметров.\n",
    "    * __Test__ -- используется для финальной оценки качества алгоритма."
   ]
  },
  {
   "cell_type": "code",
   "execution_count": 7,
   "metadata": {},
   "outputs": [
    {
     "name": "stdout",
     "output_type": "stream",
     "text": [
      "Train size: 281\n",
      "Valid size: 32\n",
      "Test size: 79\n"
     ]
    }
   ],
   "source": [
    "from sklearn.model_selection import train_test_split\n",
    "\n",
    "\n",
    "X_fit, X_test, y_fit, y_test = train_test_split(X, y, test_size=0.2, random_state=42)\n",
    "X_train, X_valid, y_train, y_valid = train_test_split(X_fit, y_fit, test_size=0.1, random_state=42)\n",
    "\n",
    "print('Train size:', X_train.shape[0])\n",
    "print('Valid size:', X_valid.shape[0])\n",
    "print('Test size:', X_test.shape[0])"
   ]
  },
  {
   "cell_type": "markdown",
   "metadata": {},
   "source": [
    "Преобразование признаков и модель:"
   ]
  },
  {
   "cell_type": "code",
   "execution_count": 10,
   "metadata": {},
   "outputs": [
    {
     "data": {
      "text/plain": [
       "ColumnTransformer(transformers=[('standardscaler', StandardScaler(),\n",
       "                                 ['displacement', 'horsepower', 'weight',\n",
       "                                  'acceleration', 'cylinders', 'model_year']),\n",
       "                                ('onehotencoder', OneHotEncoder(drop='first'),\n",
       "                                 ['origin'])])"
      ]
     },
     "execution_count": 10,
     "metadata": {},
     "output_type": "execute_result"
    }
   ],
   "source": [
    "from sklearn.compose import make_column_transformer\n",
    "from sklearn.preprocessing import StandardScaler, OneHotEncoder\n",
    "\n",
    "num_features = ['displacement', 'horsepower', 'weight', 'acceleration', 'cylinders', 'model_year']\n",
    "cat_features = ['origin']\n",
    "\n",
    "transformer = make_column_transformer((StandardScaler(), num_features), (OneHotEncoder(drop='first'), cat_features))\n",
    "transformer"
   ]
  },
  {
   "cell_type": "code",
   "execution_count": 11,
   "metadata": {},
   "outputs": [
    {
     "data": {
      "text/plain": [
       "Ridge(alpha=0.001)"
      ]
     },
     "execution_count": 11,
     "metadata": {},
     "output_type": "execute_result"
    }
   ],
   "source": [
    "from sklearn.linear_model import Ridge\n",
    "\n",
    "\n",
    "estimator = Ridge(alpha=1e-3)\n",
    "estimator"
   ]
  },
  {
   "cell_type": "code",
   "execution_count": 12,
   "metadata": {},
   "outputs": [],
   "source": [
    "from sklearn.pipeline import make_pipeline\n",
    "\n",
    "\n",
    "model = make_pipeline(transformer, estimator)\n",
    "model.fit(X_train, y_train)\n",
    "\n",
    "pred_train = model.predict(X_train)\n",
    "pred_valid = model.predict(X_valid)"
   ]
  },
  {
   "cell_type": "code",
   "execution_count": 13,
   "metadata": {},
   "outputs": [
    {
     "data": {
      "text/plain": [
       "Pipeline(steps=[('columntransformer',\n",
       "                 ColumnTransformer(transformers=[('standardscaler',\n",
       "                                                  StandardScaler(),\n",
       "                                                  ['displacement', 'horsepower',\n",
       "                                                   'weight', 'acceleration',\n",
       "                                                   'cylinders', 'model_year']),\n",
       "                                                 ('onehotencoder',\n",
       "                                                  OneHotEncoder(drop='first'),\n",
       "                                                  ['origin'])])),\n",
       "                ('ridge', Ridge(alpha=0.001))])"
      ]
     },
     "execution_count": 13,
     "metadata": {},
     "output_type": "execute_result"
    }
   ],
   "source": [
    "model"
   ]
  },
  {
   "cell_type": "markdown",
   "metadata": {},
   "source": [
    "Печатаем метрики:"
   ]
  },
  {
   "cell_type": "code",
   "execution_count": 14,
   "metadata": {},
   "outputs": [
    {
     "name": "stdout",
     "output_type": "stream",
     "text": [
      "Train:\n",
      "MAE:  1.0065714456298274\n",
      "MSE:  1.8271676990014456\n",
      "RMSE: 1.3517276719078608\n",
      "MAPE: 0.09233814607795612\n",
      "R2:   0.888276001098649\n",
      "\n",
      "Valid:\n",
      "MAE:  0.933371574464639\n",
      "MSE:  1.5088999890361994\n",
      "RMSE: 1.2283729030861106\n",
      "MAPE: 0.09445970413429358\n",
      "R2:   0.808376611496636\n",
      "\n"
     ]
    },
    {
     "data": {
      "image/png": "[encoded data removed]",
      "text/plain": [
       "<Figure size 432x432 with 1 Axes>"
      ]
     },
     "metadata": {},
     "output_type": "display_data"
    },
    {
     "data": {
      "text/plain": [
       "(0.933371574464639,\n",
       " 1.5088999890361994,\n",
       " 1.2283729030861106,\n",
       " 0.09445970413429358,\n",
       " 0.808376611496636)"
      ]
     },
     "execution_count": 14,
     "metadata": {},
     "output_type": "execute_result"
    }
   ],
   "source": [
    "print('Train:')\n",
    "regression_metrics(y_train, pred_train, verbose=True)\n",
    "\n",
    "print('Valid:')\n",
    "regression_metrics(y_valid, pred_valid, verbose=True, plot=True)"
   ]
  },
  {
   "cell_type": "markdown",
   "metadata": {},
   "source": [
    "Выбор гиперпараметров:"
   ]
  },
  {
   "cell_type": "code",
   "execution_count": 15,
   "metadata": {},
   "outputs": [
    {
     "data": {
      "application/vnd.jupyter.widget-view+json": {
       "model_id": "fd1c477be84b407a9a38d331dd7271a9",
       "version_major": 2,
       "version_minor": 0
      },
      "text/plain": [
       "HBox(children=(FloatProgress(value=0.0, max=128.0), HTML(value='')))"
      ]
     },
     "metadata": {},
     "output_type": "display_data"
    },
    {
     "name": "stdout",
     "output_type": "stream",
     "text": [
      "\n",
      "Best alpha: 44.22514763163044\n",
      "Idx of best alpha: 118\n"
     ]
    },
    {
     "data": {
      "image/png": "[encoded data removed]",
      "text/plain": [
       "<Figure size 864x288 with 1 Axes>"
      ]
     },
     "metadata": {},
     "output_type": "display_data"
    }
   ],
   "source": [
    "# Best MAE\n",
    "from tqdm.auto import tqdm\n",
    "\n",
    "\n",
    "def func(alpha):\n",
    "    model = make_pipeline(transformer, Ridge(alpha=alpha))\n",
    "    model.fit(X_train, y_train)\n",
    "    \n",
    "    score = mean_absolute_error\n",
    "    \n",
    "    metrics_train = score(y_train, model.predict(X_train))\n",
    "    metrics_valid = score(y_valid, model.predict(X_valid))\n",
    "    return metrics_train, metrics_valid\n",
    "\n",
    "alpha_list = np.logspace(-3, 2, 128)\n",
    "metrics_list = [func(alpha) for alpha in tqdm(alpha_list)]\n",
    "train_list, valid_list = zip(*metrics_list)\n",
    "\n",
    "best_idx = np.argmin(valid_list)\n",
    "alpha_best = alpha_list[best_idx]\n",
    "print('Best alpha:', alpha_best)\n",
    "print('Idx of best alpha:', best_idx)\n",
    "\n",
    "plt.plot(np.log10(alpha_list), train_list, color='blue', label='Train')\n",
    "plt.plot(np.log10(alpha_list), valid_list, color='green', label='Valid')\n",
    "plt.axvline(np.log10(alpha_best), color='purple', lw=2, label='Best alpha')\n",
    "plt.legend()\n",
    "plt.show()"
   ]
  },
  {
   "cell_type": "markdown",
   "metadata": {},
   "source": [
    "Обучаем итоговую модель:"
   ]
  },
  {
   "cell_type": "code",
   "execution_count": 16,
   "metadata": {},
   "outputs": [
    {
     "data": {
      "text/plain": [
       "Pipeline(steps=[('columntransformer',\n",
       "                 ColumnTransformer(transformers=[('standardscaler',\n",
       "                                                  StandardScaler(),\n",
       "                                                  ['displacement', 'horsepower',\n",
       "                                                   'weight', 'acceleration',\n",
       "                                                   'cylinders', 'model_year']),\n",
       "                                                 ('onehotencoder',\n",
       "                                                  OneHotEncoder(drop='first'),\n",
       "                                                  ['origin'])])),\n",
       "                ('ridge', Ridge(alpha=44.22514763163044))])"
      ]
     },
     "execution_count": 16,
     "metadata": {},
     "output_type": "execute_result"
    }
   ],
   "source": [
    "estimator = Ridge(alpha=alpha_best)\n",
    "\n",
    "model = make_pipeline(transformer, estimator)\n",
    "model.fit(X_fit, y_fit)"
   ]
  },
  {
   "cell_type": "code",
   "execution_count": 17,
   "metadata": {},
   "outputs": [
    {
     "name": "stdout",
     "output_type": "stream",
     "text": [
      "Fit:\n",
      "MAE:  0.9926126530297403\n",
      "MSE:  1.9492897682964878\n",
      "RMSE: 1.396169677473511\n",
      "MAPE: 0.09046292873991105\n",
      "R2:   0.874638841932597\n",
      "\n",
      "Test:\n",
      "MAE:  0.9272767346617419\n",
      "MSE:  1.6592567207775493\n",
      "RMSE: 1.2881213920968588\n",
      "MAPE: 0.08099501762559672\n",
      "R2:   0.8829842270316925\n",
      "\n"
     ]
    },
    {
     "data": {
      "image/png": "[encoded data removed]",
      "text/plain": [
       "<Figure size 432x432 with 1 Axes>"
      ]
     },
     "metadata": {},
     "output_type": "display_data"
    },
    {
     "data": {
      "text/plain": [
       "(0.9272767346617419,\n",
       " 1.6592567207775493,\n",
       " 1.2881213920968588,\n",
       " 0.08099501762559672,\n",
       " 0.8829842270316925)"
      ]
     },
     "execution_count": 17,
     "metadata": {},
     "output_type": "execute_result"
    }
   ],
   "source": [
    "print('Fit:')\n",
    "regression_metrics(y_fit, model.predict(X_fit), verbose=True)\n",
    "\n",
    "print('Test:')\n",
    "regression_metrics(y_test, model.predict(X_test), verbose=True, plot=True)"
   ]
  },
  {
   "cell_type": "markdown",
   "metadata": {},
   "source": [
    "## 1.2. Кросс-валидация\n",
    "\n",
    "Цели:\n",
    "* Выбор модели.\n",
    "* Оценка качества.\n",
    "\n",
    "Основные разновидности кросс-валидации:\n",
    "* __Leave One Out:__ \n",
    "    * по очереди откладываем одно наблюдение для оценки;\n",
    "    * обучаем на всей выборке кроме выбранного наблюдения;\n",
    "    * считаем метрики на отложенном наблюдении.\n",
    "* __K-Fold:__\n",
    "    * делим на $k$ непересекающихся групп (fold-ов);\n",
    "    * далее аналогично Leave One Out.\n",
    "* __Repeated K-Fold:__\n",
    "    * несколько раз с разными разбиениями повторяется K-Fold.\n",
    "* __Stratified K-Fold:__\n",
    "    * Разбиения пропорционально категориальному признаку (распределение по категориям в fold-ах будет похожим).\n",
    "* __Grouped K-Fold:__\n",
    "    * Если одному объекту принадлежит несколько наблюдений (например, пользователь померил несколько моделей обуви)."
   ]
  },
  {
   "cell_type": "code",
   "execution_count": 18,
   "metadata": {},
   "outputs": [
    {
     "name": "stdout",
     "output_type": "stream",
     "text": [
      "Fit size: 313\n",
      "Test size: 79\n"
     ]
    }
   ],
   "source": [
    "X_fit, X_test, y_fit, y_test = train_test_split(X, y, test_size=0.2, random_state=42)\n",
    "\n",
    "print('Fit size:', X_fit.shape[0])\n",
    "print('Test size:', X_test.shape[0])"
   ]
  },
  {
   "cell_type": "markdown",
   "metadata": {},
   "source": [
    "$L_2$-регуляризация с кросс-валидацией:"
   ]
  },
  {
   "cell_type": "code",
   "execution_count": 26,
   "metadata": {},
   "outputs": [
    {
     "data": {
      "text/plain": [
       "Pipeline(steps=[('columntransformer',\n",
       "                 ColumnTransformer(transformers=[('standardscaler',\n",
       "                                                  StandardScaler(),\n",
       "                                                  ['displacement', 'horsepower',\n",
       "                                                   'weight', 'acceleration',\n",
       "                                                   'cylinders', 'model_year']),\n",
       "                                                 ('onehotencoder',\n",
       "                                                  OneHotEncoder(drop='first'),\n",
       "                                                  ['origin'])])),\n",
       "                ('ridgecv',\n",
       "                 RidgeCV(alphas=array([1.00000000e-03, 1.20050806e-03, 1.44121960e-03, 1.73019574e-03,\n",
       "       2.07711393e-0...\n",
       "       1.49486913e+00, 1.79460244e+00, 2.15443469e+00, 2.58641621e+00,\n",
       "       3.10501350e+00, 3.72759372e+00, 4.47500630e+00, 5.37228112e+00,\n",
       "       6.44946677e+00, 7.74263683e+00, 9.29509790e+00, 1.11588399e+01,\n",
       "       1.33962772e+01, 1.60823388e+01, 1.93069773e+01, 2.31781818e+01,\n",
       "       2.78255940e+01, 3.34048498e+01, 4.01027914e+01, 4.81437242e+01,\n",
       "       5.77969288e+01, 6.93856788e+01, 8.32980665e+01, 1.00000000e+02]),\n",
       "                         scoring='neg_mean_squared_error'))])"
      ]
     },
     "execution_count": 26,
     "metadata": {},
     "output_type": "execute_result"
    }
   ],
   "source": [
    "from sklearn.linear_model import RidgeCV\n",
    "\n",
    "\n",
    "estimator = RidgeCV(alphas=np.logspace(-3, 2, 64), scoring='neg_mean_squared_error')\n",
    "model = make_pipeline(transformer, estimator)\n",
    "model"
   ]
  },
  {
   "cell_type": "markdown",
   "metadata": {},
   "source": [
    "Настраиваем гиперпараметры и смотрим на качество модели:"
   ]
  },
  {
   "cell_type": "code",
   "execution_count": 27,
   "metadata": {},
   "outputs": [
    {
     "name": "stdout",
     "output_type": "stream",
     "text": [
      "Best alpha: 2.154434690031882\n",
      "Coefs: [-0.49562088  1.08978765  1.979628    0.23120289  0.58091994 -1.1687093\n",
      "  0.15679769  0.77167686]\n"
     ]
    }
   ],
   "source": [
    "model.fit(X_fit, y_fit)\n",
    "\n",
    "print('Best alpha:', model['ridgecv'].alpha_)\n",
    "print('Coefs:', model['ridgecv'].coef_)"
   ]
  },
  {
   "cell_type": "code",
   "execution_count": 28,
   "metadata": {},
   "outputs": [
    {
     "name": "stdout",
     "output_type": "stream",
     "text": [
      "Fit:\n",
      "MAE:  0.9853606796923264\n",
      "MSE:  1.793282315748946\n",
      "RMSE: 1.339134913199169\n",
      "MAPE: 0.09092546627851082\n",
      "R2:   0.8846718679283148\n",
      "\n",
      "Test:\n",
      "MAE:  0.9718889261142355\n",
      "MSE:  1.5602084197707857\n",
      "RMSE: 1.2490830315758779\n",
      "MAPE: 0.08740506806223337\n",
      "R2:   0.8899694110350894\n",
      "\n"
     ]
    },
    {
     "data": {
      "image/png": "[encoded data removed]",
      "text/plain": [
       "<Figure size 432x432 with 1 Axes>"
      ]
     },
     "metadata": {},
     "output_type": "display_data"
    },
    {
     "data": {
      "text/plain": [
       "(0.9718889261142355,\n",
       " 1.5602084197707857,\n",
       " 1.2490830315758779,\n",
       " 0.08740506806223337,\n",
       " 0.8899694110350894)"
      ]
     },
     "execution_count": 28,
     "metadata": {},
     "output_type": "execute_result"
    }
   ],
   "source": [
    "print('Fit:')\n",
    "regression_metrics(y_fit, model.predict(X_fit), verbose=True)\n",
    "\n",
    "print('Test:')\n",
    "regression_metrics(y_test, model.predict(X_test), verbose=True, plot=True)"
   ]
  },
  {
   "cell_type": "markdown",
   "metadata": {},
   "source": [
    "# 1.3. GridSearch\n",
    "\n",
    "Умеет перебирать все возможные гипер-параметры и находить оптимальные для произвольных алгоритмов машинного обучения."
   ]
  },
  {
   "cell_type": "code",
   "execution_count": 31,
   "metadata": {},
   "outputs": [
    {
     "name": "stdout",
     "output_type": "stream",
     "text": [
      "Train size: 281\n",
      "Valid size: 32\n",
      "Test size: 79\n"
     ]
    }
   ],
   "source": [
    "X_fit, X_test, y_fit, y_test = train_test_split(X, y, test_size=0.2, random_state=42)\n",
    "X_train, X_valid, y_train, y_valid = train_test_split(X_fit, y_fit, test_size=0.1, random_state=42)\n",
    "\n",
    "print('Train size:', X_train.shape[0])\n",
    "print('Valid size:', X_valid.shape[0])\n",
    "print('Test size:', X_test.shape[0])"
   ]
  },
  {
   "cell_type": "code",
   "execution_count": 33,
   "metadata": {},
   "outputs": [
    {
     "data": {
      "text/plain": [
       "Pipeline(steps=[('columntransformer',\n",
       "                 ColumnTransformer(transformers=[('standardscaler',\n",
       "                                                  StandardScaler(),\n",
       "                                                  ['displacement', 'horsepower',\n",
       "                                                   'weight', 'acceleration',\n",
       "                                                   'cylinders', 'model_year']),\n",
       "                                                 ('onehotencoder',\n",
       "                                                  OneHotEncoder(drop='first'),\n",
       "                                                  ['origin'])])),\n",
       "                ('gridsearchcv',\n",
       "                 GridSearchCV(estimator=Ridge(),\n",
       "                              param_grid={'alpha': array([1.00000000e-03, 1.44974067e-03, 2....\n",
       "       1.95129342e-02, 2.82886943e-02, 4.10112707e-02, 5.94557071e-02,\n",
       "       8.61953566e-02, 1.24960914e-01, 1.81160919e-01, 2.62636353e-01,\n",
       "       3.80754602e-01, 5.51995432e-01, 8.00250228e-01, 1.16015530e+00,\n",
       "       1.68192432e+00, 2.43835410e+00, 3.53498111e+00, 5.12480588e+00,\n",
       "       7.42963951e+00, 1.07710506e+01, 1.56152301e+01, 2.26380341e+01,\n",
       "       3.28192787e+01, 4.75794431e+01, 6.89778538e+01, 1.00000000e+02]),\n",
       "                                          'solver': ('svd', 'cholesky',\n",
       "                                                     'lsqr')}))])"
      ]
     },
     "execution_count": 33,
     "metadata": {},
     "output_type": "execute_result"
    }
   ],
   "source": [
    "from sklearn.model_selection import GridSearchCV\n",
    "\n",
    "\n",
    "grid_search = GridSearchCV(Ridge(), {\n",
    "    'alpha': np.logspace(-3, 2, 32),\n",
    "    'solver': ('svd', 'cholesky', 'lsqr')\n",
    "})\n",
    "\n",
    "model = make_pipeline(transformer, grid_search)\n",
    "model"
   ]
  },
  {
   "cell_type": "code",
   "execution_count": 35,
   "metadata": {},
   "outputs": [
    {
     "data": {
      "text/plain": [
       "Ridge(alpha=3.5349811050301057, solver='lsqr')"
      ]
     },
     "execution_count": 35,
     "metadata": {},
     "output_type": "execute_result"
    }
   ],
   "source": [
    "model.fit(X_fit, y_fit)\n",
    "model['gridsearchcv'].best_estimator_"
   ]
  },
  {
   "cell_type": "code",
   "execution_count": 36,
   "metadata": {},
   "outputs": [
    {
     "name": "stdout",
     "output_type": "stream",
     "text": [
      "Fit:\n",
      "MAE:  0.9821045073394921\n",
      "MSE:  1.7984240145187897\n",
      "RMSE: 1.341053322772361\n",
      "MAPE: 0.09053643858843877\n",
      "R2:   0.8843411991264236\n",
      "\n",
      "Test:\n",
      "MAE:  0.9669734130451547\n",
      "MSE:  1.5631130532786452\n",
      "RMSE: 1.250245197262779\n",
      "MAPE: 0.08670568528090154\n",
      "R2:   0.8897645675465227\n",
      "\n"
     ]
    },
    {
     "data": {
      "image/png": "[encoded data removed]",
      "text/plain": [
       "<Figure size 432x432 with 1 Axes>"
      ]
     },
     "metadata": {},
     "output_type": "display_data"
    },
    {
     "data": {
      "text/plain": [
       "(0.9669734130451547,\n",
       " 1.5631130532786452,\n",
       " 1.250245197262779,\n",
       " 0.08670568528090154,\n",
       " 0.8897645675465227)"
      ]
     },
     "execution_count": 36,
     "metadata": {},
     "output_type": "execute_result"
    }
   ],
   "source": [
    "print('Fit:')\n",
    "regression_metrics(y_fit, model.predict(X_fit), verbose=True)\n",
    "\n",
    "print('Test:')\n",
    "regression_metrics(y_test, model.predict(X_test), verbose=True, plot=True)"
   ]
  },
  {
   "cell_type": "markdown",
   "metadata": {},
   "source": [
    "GridSearch для всего пайплайна:"
   ]
  },
  {
   "cell_type": "code",
   "execution_count": 39,
   "metadata": {},
   "outputs": [
    {
     "data": {
      "text/plain": [
       "Pipeline(steps=[('columntransformer',\n",
       "                 ColumnTransformer(transformers=[('standardscaler',\n",
       "                                                  StandardScaler(),\n",
       "                                                  ['displacement', 'horsepower',\n",
       "                                                   'weight', 'acceleration',\n",
       "                                                   'cylinders', 'model_year']),\n",
       "                                                 ('onehotencoder',\n",
       "                                                  OneHotEncoder(drop='first'),\n",
       "                                                  ['origin'])])),\n",
       "                ('ridge', Ridge())])"
      ]
     },
     "execution_count": 39,
     "metadata": {},
     "output_type": "execute_result"
    }
   ],
   "source": [
    "estimator = Ridge()\n",
    "pipeline = make_pipeline(transformer, estimator)\n",
    "pipeline"
   ]
  },
  {
   "cell_type": "code",
   "execution_count": 40,
   "metadata": {},
   "outputs": [
    {
     "data": {
      "text/plain": [
       "{'memory': None,\n",
       " 'steps': [('columntransformer',\n",
       "   ColumnTransformer(transformers=[('standardscaler', StandardScaler(),\n",
       "                                    ['displacement', 'horsepower', 'weight',\n",
       "                                     'acceleration', 'cylinders', 'model_year']),\n",
       "                                   ('onehotencoder', OneHotEncoder(drop='first'),\n",
       "                                    ['origin'])])),\n",
       "  ('ridge', Ridge())],\n",
       " 'verbose': False,\n",
       " 'columntransformer': ColumnTransformer(transformers=[('standardscaler', StandardScaler(),\n",
       "                                  ['displacement', 'horsepower', 'weight',\n",
       "                                   'acceleration', 'cylinders', 'model_year']),\n",
       "                                 ('onehotencoder', OneHotEncoder(drop='first'),\n",
       "                                  ['origin'])]),\n",
       " 'ridge': Ridge(),\n",
       " 'columntransformer__n_jobs': None,\n",
       " 'columntransformer__remainder': 'drop',\n",
       " 'columntransformer__sparse_threshold': 0.3,\n",
       " 'columntransformer__transformer_weights': None,\n",
       " 'columntransformer__transformers': [('standardscaler',\n",
       "   StandardScaler(),\n",
       "   ['displacement',\n",
       "    'horsepower',\n",
       "    'weight',\n",
       "    'acceleration',\n",
       "    'cylinders',\n",
       "    'model_year']),\n",
       "  ('onehotencoder', OneHotEncoder(drop='first'), ['origin'])],\n",
       " 'columntransformer__verbose': False,\n",
       " 'columntransformer__standardscaler': StandardScaler(),\n",
       " 'columntransformer__onehotencoder': OneHotEncoder(drop='first'),\n",
       " 'columntransformer__standardscaler__copy': True,\n",
       " 'columntransformer__standardscaler__with_mean': True,\n",
       " 'columntransformer__standardscaler__with_std': True,\n",
       " 'columntransformer__onehotencoder__categories': 'auto',\n",
       " 'columntransformer__onehotencoder__drop': 'first',\n",
       " 'columntransformer__onehotencoder__dtype': numpy.float64,\n",
       " 'columntransformer__onehotencoder__handle_unknown': 'error',\n",
       " 'columntransformer__onehotencoder__sparse': True,\n",
       " 'ridge__alpha': 1.0,\n",
       " 'ridge__copy_X': True,\n",
       " 'ridge__fit_intercept': True,\n",
       " 'ridge__max_iter': None,\n",
       " 'ridge__normalize': False,\n",
       " 'ridge__random_state': None,\n",
       " 'ridge__solver': 'auto',\n",
       " 'ridge__tol': 0.001}"
      ]
     },
     "execution_count": 40,
     "metadata": {},
     "output_type": "execute_result"
    }
   ],
   "source": [
    "pipeline.get_params()"
   ]
  },
  {
   "cell_type": "code",
   "execution_count": 42,
   "metadata": {},
   "outputs": [
    {
     "data": {
      "text/plain": [
       "Pipeline(steps=[('columntransformer',\n",
       "                 ColumnTransformer(transformers=[('standardscaler',\n",
       "                                                  StandardScaler(),\n",
       "                                                  ['displacement', 'horsepower',\n",
       "                                                   'weight', 'acceleration',\n",
       "                                                   'cylinders', 'model_year']),\n",
       "                                                 ('onehotencoder',\n",
       "                                                  OneHotEncoder(drop='first'),\n",
       "                                                  ['origin'])])),\n",
       "                ('ridge', Ridge(alpha=3.5349811050301057, solver='cholesky'))])"
      ]
     },
     "execution_count": 42,
     "metadata": {},
     "output_type": "execute_result"
    }
   ],
   "source": [
    "grid_search = GridSearchCV(pipeline, {\n",
    "    'ridge__alpha': np.logspace(-3, 2, 32),\n",
    "    'ridge__solver': ('svd', 'cholesky', 'lsqr'),\n",
    "    'columntransformer__standardscaler__with_mean': (False, True)\n",
    "})\n",
    "grid_search.fit(X_fit, y_fit)\n",
    "grid_search.best_estimator_"
   ]
  },
  {
   "cell_type": "code",
   "execution_count": 44,
   "metadata": {},
   "outputs": [
    {
     "name": "stdout",
     "output_type": "stream",
     "text": [
      "FINAL GRIDSEARCH METRICS:\n",
      "MAE:  0.9667811576541921\n",
      "MSE:  1.5626387355606752\n",
      "RMSE: 1.2500554929924812\n",
      "MAPE: 0.08668780203659783\n",
      "R2:   0.8897980178581627\n",
      "\n"
     ]
    },
    {
     "data": {
      "image/png": "[encoded data removed]",
      "text/plain": [
       "<Figure size 432x432 with 1 Axes>"
      ]
     },
     "metadata": {},
     "output_type": "display_data"
    },
    {
     "data": {
      "text/plain": [
       "(0.9667811576541921,\n",
       " 1.5626387355606752,\n",
       " 1.2500554929924812,\n",
       " 0.08668780203659783,\n",
       " 0.8897980178581627)"
      ]
     },
     "execution_count": 44,
     "metadata": {},
     "output_type": "execute_result"
    }
   ],
   "source": [
    "print('FINAL GRIDSEARCH METRICS:')\n",
    "regression_metrics(y_test, grid_search.predict(X_test), verbose=True, plot=True)"
   ]
  },
  {
   "cell_type": "markdown",
   "metadata": {},
   "source": [
    "# 2. Выбор вида модели"
   ]
  },
  {
   "cell_type": "markdown",
   "metadata": {},
   "source": [
    "__Задача:__ отобрать параметры для метода $k$ ближайших соседей."
   ]
  },
  {
   "cell_type": "code",
   "execution_count": 45,
   "metadata": {},
   "outputs": [],
   "source": [
    "# обучить модель на fit и сравнить качество на test"
   ]
  },
  {
   "cell_type": "code",
   "execution_count": 46,
   "metadata": {},
   "outputs": [],
   "source": [
    "from sklearn.neighbors import KNeighborsRegressor"
   ]
  },
  {
   "cell_type": "code",
   "execution_count": 48,
   "metadata": {},
   "outputs": [
    {
     "data": {
      "text/plain": [
       "Pipeline(steps=[('columntransformer',\n",
       "                 ColumnTransformer(transformers=[('standardscaler',\n",
       "                                                  StandardScaler(),\n",
       "                                                  ['displacement', 'horsepower',\n",
       "                                                   'weight', 'acceleration',\n",
       "                                                   'cylinders', 'model_year']),\n",
       "                                                 ('onehotencoder',\n",
       "                                                  OneHotEncoder(drop='first'),\n",
       "                                                  ['origin'])])),\n",
       "                ('kneighborsregressor',\n",
       "                 KNeighborsRegressor(leaf_size=29, n_neighbors=4, p=1,\n",
       "                                     weights='distance'))])"
      ]
     },
     "execution_count": 48,
     "metadata": {},
     "output_type": "execute_result"
    }
   ],
   "source": [
    "knn = KNeighborsRegressor(n_neighbors=4, weights='distance', leaf_size=29, p=1)\n",
    "pipeline = make_pipeline(transformer, knn)\n",
    "pipeline"
   ]
  },
  {
   "cell_type": "code",
   "execution_count": 50,
   "metadata": {},
   "outputs": [],
   "source": [
    "make_pipeline"
   ]
  },
  {
   "cell_type": "code",
   "execution_count": 51,
   "metadata": {},
   "outputs": [
    {
     "data": {
      "text/plain": [
       "ColumnTransformer(transformers=[('standardscaler', StandardScaler(),\n",
       "                                 ['displacement', 'horsepower', 'weight',\n",
       "                                  'acceleration', 'cylinders', 'model_year']),\n",
       "                                ('onehotencoder', OneHotEncoder(drop='first'),\n",
       "                                 ['origin'])])"
      ]
     },
     "execution_count": 51,
     "metadata": {},
     "output_type": "execute_result"
    }
   ],
   "source": [
    "transformer"
   ]
  },
  {
   "cell_type": "raw",
   "metadata": {},
   "source": [
    "[\n",
    "    (название, объект-трансформер, столбцы)\n",
    "]"
   ]
  },
  {
   "cell_type": "code",
   "execution_count": 49,
   "metadata": {},
   "outputs": [
    {
     "data": {
      "text/plain": [
       "{'memory': None,\n",
       " 'steps': [('columntransformer',\n",
       "   ColumnTransformer(transformers=[('standardscaler', StandardScaler(),\n",
       "                                    ['displacement', 'horsepower', 'weight',\n",
       "                                     'acceleration', 'cylinders', 'model_year']),\n",
       "                                   ('onehotencoder', OneHotEncoder(drop='first'),\n",
       "                                    ['origin'])])),\n",
       "  ('kneighborsregressor',\n",
       "   KNeighborsRegressor(leaf_size=29, n_neighbors=4, p=1, weights='distance'))],\n",
       " 'verbose': False,\n",
       " 'columntransformer': ColumnTransformer(transformers=[('standardscaler', StandardScaler(),\n",
       "                                  ['displacement', 'horsepower', 'weight',\n",
       "                                   'acceleration', 'cylinders', 'model_year']),\n",
       "                                 ('onehotencoder', OneHotEncoder(drop='first'),\n",
       "                                  ['origin'])]),\n",
       " 'kneighborsregressor': KNeighborsRegressor(leaf_size=29, n_neighbors=4, p=1, weights='distance'),\n",
       " 'columntransformer__n_jobs': None,\n",
       " 'columntransformer__remainder': 'drop',\n",
       " 'columntransformer__sparse_threshold': 0.3,\n",
       " 'columntransformer__transformer_weights': None,\n",
       " 'columntransformer__transformers': [('standardscaler',\n",
       "   StandardScaler(),\n",
       "   ['displacement',\n",
       "    'horsepower',\n",
       "    'weight',\n",
       "    'acceleration',\n",
       "    'cylinders',\n",
       "    'model_year']),\n",
       "  ('onehotencoder', OneHotEncoder(drop='first'), ['origin'])],\n",
       " 'columntransformer__verbose': False,\n",
       " 'columntransformer__standardscaler': StandardScaler(),\n",
       " 'columntransformer__onehotencoder': OneHotEncoder(drop='first'),\n",
       " 'columntransformer__standardscaler__copy': True,\n",
       " 'columntransformer__standardscaler__with_mean': True,\n",
       " 'columntransformer__standardscaler__with_std': True,\n",
       " 'columntransformer__onehotencoder__categories': 'auto',\n",
       " 'columntransformer__onehotencoder__drop': 'first',\n",
       " 'columntransformer__onehotencoder__dtype': numpy.float64,\n",
       " 'columntransformer__onehotencoder__handle_unknown': 'error',\n",
       " 'columntransformer__onehotencoder__sparse': True,\n",
       " 'kneighborsregressor__algorithm': 'auto',\n",
       " 'kneighborsregressor__leaf_size': 29,\n",
       " 'kneighborsregressor__metric': 'minkowski',\n",
       " 'kneighborsregressor__metric_params': None,\n",
       " 'kneighborsregressor__n_jobs': None,\n",
       " 'kneighborsregressor__n_neighbors': 4,\n",
       " 'kneighborsregressor__p': 1,\n",
       " 'kneighborsregressor__weights': 'distance'}"
      ]
     },
     "execution_count": 49,
     "metadata": {},
     "output_type": "execute_result"
    }
   ],
   "source": [
    "pipeline.get_params()"
   ]
  },
  {
   "cell_type": "code",
   "execution_count": 64,
   "metadata": {},
   "outputs": [
    {
     "data": {
      "text/html": [
       "<style>div.sk-top-container {color: black;background-color: white;}div.sk-toggleable {background-color: white;}label.sk-toggleable__label {cursor: pointer;display: block;width: 100%;margin-bottom: 0;padding: 0.2em 0.3em;box-sizing: border-box;text-align: center;}div.sk-toggleable__content {max-height: 0;max-width: 0;overflow: hidden;text-align: left;background-color: #f0f8ff;}div.sk-toggleable__content pre {margin: 0.2em;color: black;border-radius: 0.25em;background-color: #f0f8ff;}input.sk-toggleable__control:checked~div.sk-toggleable__content {max-height: 200px;max-width: 100%;overflow: auto;}div.sk-estimator input.sk-toggleable__control:checked~label.sk-toggleable__label {background-color: #d4ebff;}div.sk-label input.sk-toggleable__control:checked~label.sk-toggleable__label {background-color: #d4ebff;}input.sk-hidden--visually {border: 0;clip: rect(1px 1px 1px 1px);clip: rect(1px, 1px, 1px, 1px);height: 1px;margin: -1px;overflow: hidden;padding: 0;position: absolute;width: 1px;}div.sk-estimator {font-family: monospace;background-color: #f0f8ff;margin: 0.25em 0.25em;border: 1px dotted black;border-radius: 0.25em;box-sizing: border-box;}div.sk-estimator:hover {background-color: #d4ebff;}div.sk-parallel-item::after {content: \"\";width: 100%;border-bottom: 1px solid gray;flex-grow: 1;}div.sk-label:hover label.sk-toggleable__label {background-color: #d4ebff;}div.sk-serial::before {content: \"\";position: absolute;border-left: 1px solid gray;box-sizing: border-box;top: 2em;bottom: 0;left: 50%;}div.sk-serial {display: flex;flex-direction: column;align-items: center;background-color: white;}div.sk-item {z-index: 1;}div.sk-parallel {display: flex;align-items: stretch;justify-content: center;background-color: white;}div.sk-parallel-item {display: flex;flex-direction: column;position: relative;background-color: white;}div.sk-parallel-item:first-child::after {align-self: flex-end;width: 50%;}div.sk-parallel-item:last-child::after {align-self: flex-start;width: 50%;}div.sk-parallel-item:only-child::after {width: 0;}div.sk-dashed-wrapped {border: 1px dashed gray;margin: 0.2em;box-sizing: border-box;padding-bottom: 0.1em;background-color: white;position: relative;}div.sk-label label {font-family: monospace;font-weight: bold;background-color: white;display: inline-block;line-height: 1.2em;}div.sk-label-container {position: relative;z-index: 2;text-align: center;}div.sk-container {display: inline-block;position: relative;}</style><div class=\"sk-top-container\"><div class=\"sk-container\"><div class=\"sk-item sk-dashed-wrapped\"><div class=\"sk-label-container\"><div class=\"sk-label sk-toggleable\"><input class=\"sk-toggleable__control sk-hidden--visually\" id=\"46517f7b-5c49-4c09-8e2f-e94b9c98721c\" type=\"checkbox\" ><label class=\"sk-toggleable__label\" for=\"46517f7b-5c49-4c09-8e2f-e94b9c98721c\">Pipeline</label><div class=\"sk-toggleable__content\"><pre>Pipeline(steps=[('columntransformer',\n",
       "                 ColumnTransformer(transformers=[('standardscaler',\n",
       "                                                  StandardScaler(),\n",
       "                                                  ['displacement', 'horsepower',\n",
       "                                                   'weight', 'acceleration',\n",
       "                                                   'cylinders', 'model_year']),\n",
       "                                                 ('onehotencoder',\n",
       "                                                  OneHotEncoder(drop='first'),\n",
       "                                                  ['origin'])])),\n",
       "                ('kneighborsregressor',\n",
       "                 KNeighborsRegressor(leaf_size=29, n_neighbors=4, p=1,\n",
       "                                     weights='distance'))])</pre></div></div></div><div class=\"sk-serial\"><div class=\"sk-item sk-dashed-wrapped\"><div class=\"sk-label-container\"><div class=\"sk-label sk-toggleable\"><input class=\"sk-toggleable__control sk-hidden--visually\" id=\"8e33be1a-47c6-46bc-9599-b720f4485670\" type=\"checkbox\" ><label class=\"sk-toggleable__label\" for=\"8e33be1a-47c6-46bc-9599-b720f4485670\">columntransformer: ColumnTransformer</label><div class=\"sk-toggleable__content\"><pre>ColumnTransformer(transformers=[('standardscaler', StandardScaler(),\n",
       "                                 ['displacement', 'horsepower', 'weight',\n",
       "                                  'acceleration', 'cylinders', 'model_year']),\n",
       "                                ('onehotencoder', OneHotEncoder(drop='first'),\n",
       "                                 ['origin'])])</pre></div></div></div><div class=\"sk-parallel\"><div class=\"sk-parallel-item\"><div class=\"sk-item\"><div class=\"sk-label-container\"><div class=\"sk-label sk-toggleable\"><input class=\"sk-toggleable__control sk-hidden--visually\" id=\"767ffa88-8ff0-4cbf-85b2-5987a255fe44\" type=\"checkbox\" ><label class=\"sk-toggleable__label\" for=\"767ffa88-8ff0-4cbf-85b2-5987a255fe44\">standardscaler</label><div class=\"sk-toggleable__content\"><pre>['displacement', 'horsepower', 'weight', 'acceleration', 'cylinders', 'model_year']</pre></div></div></div><div class=\"sk-serial\"><div class=\"sk-item\"><div class=\"sk-estimator sk-toggleable\"><input class=\"sk-toggleable__control sk-hidden--visually\" id=\"3ae62a5e-0460-48e0-89ed-c5a52ca30033\" type=\"checkbox\" ><label class=\"sk-toggleable__label\" for=\"3ae62a5e-0460-48e0-89ed-c5a52ca30033\">StandardScaler</label><div class=\"sk-toggleable__content\"><pre>StandardScaler()</pre></div></div></div></div></div></div><div class=\"sk-parallel-item\"><div class=\"sk-item\"><div class=\"sk-label-container\"><div class=\"sk-label sk-toggleable\"><input class=\"sk-toggleable__control sk-hidden--visually\" id=\"9d65b377-e8f3-4475-8bea-00340ade35c6\" type=\"checkbox\" ><label class=\"sk-toggleable__label\" for=\"9d65b377-e8f3-4475-8bea-00340ade35c6\">onehotencoder</label><div class=\"sk-toggleable__content\"><pre>['origin']</pre></div></div></div><div class=\"sk-serial\"><div class=\"sk-item\"><div class=\"sk-estimator sk-toggleable\"><input class=\"sk-toggleable__control sk-hidden--visually\" id=\"658dba49-5b8b-46c3-943c-32e4a88630d1\" type=\"checkbox\" ><label class=\"sk-toggleable__label\" for=\"658dba49-5b8b-46c3-943c-32e4a88630d1\">OneHotEncoder</label><div class=\"sk-toggleable__content\"><pre>OneHotEncoder(drop='first')</pre></div></div></div></div></div></div></div></div><div class=\"sk-item\"><div class=\"sk-estimator sk-toggleable\"><input class=\"sk-toggleable__control sk-hidden--visually\" id=\"c87e162e-1942-4e5e-bf0a-d27980a78f42\" type=\"checkbox\" ><label class=\"sk-toggleable__label\" for=\"c87e162e-1942-4e5e-bf0a-d27980a78f42\">KNeighborsRegressor</label><div class=\"sk-toggleable__content\"><pre>KNeighborsRegressor(leaf_size=29, n_neighbors=4, p=1, weights='distance')</pre></div></div></div></div></div></div></div>"
      ],
      "text/plain": [
       "Pipeline(steps=[('columntransformer',\n",
       "                 ColumnTransformer(transformers=[('standardscaler',\n",
       "                                                  StandardScaler(),\n",
       "                                                  ['displacement', 'horsepower',\n",
       "                                                   'weight', 'acceleration',\n",
       "                                                   'cylinders', 'model_year']),\n",
       "                                                 ('onehotencoder',\n",
       "                                                  OneHotEncoder(drop='first'),\n",
       "                                                  ['origin'])])),\n",
       "                ('kneighborsregressor',\n",
       "                 KNeighborsRegressor(leaf_size=29, n_neighbors=4, p=1,\n",
       "                                     weights='distance'))])"
      ]
     },
     "execution_count": 64,
     "metadata": {},
     "output_type": "execute_result"
    }
   ],
   "source": [
    "pipeline"
   ]
  },
  {
   "cell_type": "code",
   "execution_count": 68,
   "metadata": {
    "scrolled": false
   },
   "outputs": [
    {
     "name": "stdout",
     "output_type": "stream",
     "text": [
      "Fitting 5 folds for each of 224 candidates, totalling 1120 fits\n"
     ]
    },
    {
     "data": {
      "text/html": [
       "<style>div.sk-top-container {color: black;background-color: white;}div.sk-toggleable {background-color: white;}label.sk-toggleable__label {cursor: pointer;display: block;width: 100%;margin-bottom: 0;padding: 0.2em 0.3em;box-sizing: border-box;text-align: center;}div.sk-toggleable__content {max-height: 0;max-width: 0;overflow: hidden;text-align: left;background-color: #f0f8ff;}div.sk-toggleable__content pre {margin: 0.2em;color: black;border-radius: 0.25em;background-color: #f0f8ff;}input.sk-toggleable__control:checked~div.sk-toggleable__content {max-height: 200px;max-width: 100%;overflow: auto;}div.sk-estimator input.sk-toggleable__control:checked~label.sk-toggleable__label {background-color: #d4ebff;}div.sk-label input.sk-toggleable__control:checked~label.sk-toggleable__label {background-color: #d4ebff;}input.sk-hidden--visually {border: 0;clip: rect(1px 1px 1px 1px);clip: rect(1px, 1px, 1px, 1px);height: 1px;margin: -1px;overflow: hidden;padding: 0;position: absolute;width: 1px;}div.sk-estimator {font-family: monospace;background-color: #f0f8ff;margin: 0.25em 0.25em;border: 1px dotted black;border-radius: 0.25em;box-sizing: border-box;}div.sk-estimator:hover {background-color: #d4ebff;}div.sk-parallel-item::after {content: \"\";width: 100%;border-bottom: 1px solid gray;flex-grow: 1;}div.sk-label:hover label.sk-toggleable__label {background-color: #d4ebff;}div.sk-serial::before {content: \"\";position: absolute;border-left: 1px solid gray;box-sizing: border-box;top: 2em;bottom: 0;left: 50%;}div.sk-serial {display: flex;flex-direction: column;align-items: center;background-color: white;}div.sk-item {z-index: 1;}div.sk-parallel {display: flex;align-items: stretch;justify-content: center;background-color: white;}div.sk-parallel-item {display: flex;flex-direction: column;position: relative;background-color: white;}div.sk-parallel-item:first-child::after {align-self: flex-end;width: 50%;}div.sk-parallel-item:last-child::after {align-self: flex-start;width: 50%;}div.sk-parallel-item:only-child::after {width: 0;}div.sk-dashed-wrapped {border: 1px dashed gray;margin: 0.2em;box-sizing: border-box;padding-bottom: 0.1em;background-color: white;position: relative;}div.sk-label label {font-family: monospace;font-weight: bold;background-color: white;display: inline-block;line-height: 1.2em;}div.sk-label-container {position: relative;z-index: 2;text-align: center;}div.sk-container {display: inline-block;position: relative;}</style><div class=\"sk-top-container\"><div class=\"sk-container\"><div class=\"sk-item sk-dashed-wrapped\"><div class=\"sk-label-container\"><div class=\"sk-label sk-toggleable\"><input class=\"sk-toggleable__control sk-hidden--visually\" id=\"1391ee3a-7a34-4f5d-9b39-0109694c612b\" type=\"checkbox\" ><label class=\"sk-toggleable__label\" for=\"1391ee3a-7a34-4f5d-9b39-0109694c612b\">Pipeline</label><div class=\"sk-toggleable__content\"><pre>Pipeline(steps=[('columntransformer',\n",
       "                 ColumnTransformer(transformers=[('standardscaler',\n",
       "                                                  StandardScaler(),\n",
       "                                                  ['displacement', 'horsepower',\n",
       "                                                   'weight', 'acceleration',\n",
       "                                                   'cylinders', 'model_year']),\n",
       "                                                 ('onehotencoder',\n",
       "                                                  OneHotEncoder(drop='first'),\n",
       "                                                  ['origin'])])),\n",
       "                ('kneighborsregressor',\n",
       "                 KNeighborsRegressor(leaf_size=10, n_neighbors=4, p=1,\n",
       "                                     weights='distance'))])</pre></div></div></div><div class=\"sk-serial\"><div class=\"sk-item sk-dashed-wrapped\"><div class=\"sk-label-container\"><div class=\"sk-label sk-toggleable\"><input class=\"sk-toggleable__control sk-hidden--visually\" id=\"a2395ada-df74-477d-abfa-afec63bec786\" type=\"checkbox\" ><label class=\"sk-toggleable__label\" for=\"a2395ada-df74-477d-abfa-afec63bec786\">columntransformer: ColumnTransformer</label><div class=\"sk-toggleable__content\"><pre>ColumnTransformer(transformers=[('standardscaler', StandardScaler(),\n",
       "                                 ['displacement', 'horsepower', 'weight',\n",
       "                                  'acceleration', 'cylinders', 'model_year']),\n",
       "                                ('onehotencoder', OneHotEncoder(drop='first'),\n",
       "                                 ['origin'])])</pre></div></div></div><div class=\"sk-parallel\"><div class=\"sk-parallel-item\"><div class=\"sk-item\"><div class=\"sk-label-container\"><div class=\"sk-label sk-toggleable\"><input class=\"sk-toggleable__control sk-hidden--visually\" id=\"50c5c012-0f3a-4b19-a0fe-1129f56563cc\" type=\"checkbox\" ><label class=\"sk-toggleable__label\" for=\"50c5c012-0f3a-4b19-a0fe-1129f56563cc\">standardscaler</label><div class=\"sk-toggleable__content\"><pre>['displacement', 'horsepower', 'weight', 'acceleration', 'cylinders', 'model_year']</pre></div></div></div><div class=\"sk-serial\"><div class=\"sk-item\"><div class=\"sk-estimator sk-toggleable\"><input class=\"sk-toggleable__control sk-hidden--visually\" id=\"13ffd9ec-76ed-448a-8aa3-df1368a93248\" type=\"checkbox\" ><label class=\"sk-toggleable__label\" for=\"13ffd9ec-76ed-448a-8aa3-df1368a93248\">StandardScaler</label><div class=\"sk-toggleable__content\"><pre>StandardScaler()</pre></div></div></div></div></div></div><div class=\"sk-parallel-item\"><div class=\"sk-item\"><div class=\"sk-label-container\"><div class=\"sk-label sk-toggleable\"><input class=\"sk-toggleable__control sk-hidden--visually\" id=\"a34b8f57-fadc-45a4-bd72-56a6f5fb7bfd\" type=\"checkbox\" ><label class=\"sk-toggleable__label\" for=\"a34b8f57-fadc-45a4-bd72-56a6f5fb7bfd\">onehotencoder</label><div class=\"sk-toggleable__content\"><pre>['origin']</pre></div></div></div><div class=\"sk-serial\"><div class=\"sk-item\"><div class=\"sk-estimator sk-toggleable\"><input class=\"sk-toggleable__control sk-hidden--visually\" id=\"f8cf7bf0-84c7-45d5-af2b-772b910f7548\" type=\"checkbox\" ><label class=\"sk-toggleable__label\" for=\"f8cf7bf0-84c7-45d5-af2b-772b910f7548\">OneHotEncoder</label><div class=\"sk-toggleable__content\"><pre>OneHotEncoder(drop='first')</pre></div></div></div></div></div></div></div></div><div class=\"sk-item\"><div class=\"sk-estimator sk-toggleable\"><input class=\"sk-toggleable__control sk-hidden--visually\" id=\"9a300d97-0df9-4b6b-9995-df742bc13dab\" type=\"checkbox\" ><label class=\"sk-toggleable__label\" for=\"9a300d97-0df9-4b6b-9995-df742bc13dab\">KNeighborsRegressor</label><div class=\"sk-toggleable__content\"><pre>KNeighborsRegressor(leaf_size=10, n_neighbors=4, p=1, weights='distance')</pre></div></div></div></div></div></div></div>"
      ],
      "text/plain": [
       "Pipeline(steps=[('columntransformer',\n",
       "                 ColumnTransformer(transformers=[('standardscaler',\n",
       "                                                  StandardScaler(),\n",
       "                                                  ['displacement', 'horsepower',\n",
       "                                                   'weight', 'acceleration',\n",
       "                                                   'cylinders', 'model_year']),\n",
       "                                                 ('onehotencoder',\n",
       "                                                  OneHotEncoder(drop='first'),\n",
       "                                                  ['origin'])])),\n",
       "                ('kneighborsregressor',\n",
       "                 KNeighborsRegressor(leaf_size=10, n_neighbors=4, p=1,\n",
       "                                     weights='distance'))])"
      ]
     },
     "execution_count": 68,
     "metadata": {},
     "output_type": "execute_result"
    }
   ],
   "source": [
    "grid_search = GridSearchCV(pipeline, {\n",
    "    'kneighborsregressor__n_neighbors': (1, 2, 4, 6, 8, 10, 15),\n",
    "    'kneighborsregressor__leaf_size': (10, 20, 30, 40),\n",
    "    'kneighborsregressor__weights': ('distance', 'uniform'),\n",
    "    'kneighborsregressor__p': (1, 2, 3, 10)\n",
    "}, verbose=1, n_jobs=-1)\n",
    "grid_search.fit(X_fit, y_fit)\n",
    "grid_search.best_estimator_"
   ]
  },
  {
   "cell_type": "code",
   "execution_count": 69,
   "metadata": {},
   "outputs": [
    {
     "data": {
      "text/plain": [
       "'0.24.1'"
      ]
     },
     "execution_count": 69,
     "metadata": {},
     "output_type": "execute_result"
    }
   ],
   "source": [
    "import sklearn\n",
    "\n",
    "sklearn.__version__"
   ]
  },
  {
   "cell_type": "code",
   "execution_count": 70,
   "metadata": {},
   "outputs": [],
   "source": [
    "# !pip3 install --user --upgrade scikit-learn"
   ]
  },
  {
   "cell_type": "raw",
   "metadata": {},
   "source": [
    "FINAL GRIDSEARCH METRICS:\n",
    "MAE:  0.9667811576541921\n",
    "MSE:  1.5626387355606752\n",
    "RMSE: 1.2500554929924812\n",
    "MAPE: 0.08668780203659783\n",
    "R2:   0.8897980178581627"
   ]
  },
  {
   "cell_type": "code",
   "execution_count": 73,
   "metadata": {},
   "outputs": [
    {
     "name": "stdout",
     "output_type": "stream",
     "text": [
      "FINAL KNN METRICS:\n",
      "MAE:  0.822720457465188\n",
      "MSE:  1.2513069714640999\n",
      "RMSE: 1.1186183314536284\n",
      "MAPE: 0.07230392898775811\n",
      "R2:   0.9117540699682157\n",
      "\n"
     ]
    },
    {
     "data": {
      "text/plain": [
       "(0.822720457465188,\n",
       " 1.2513069714640999,\n",
       " 1.1186183314536284,\n",
       " 0.07230392898775811,\n",
       " 0.9117540699682157)"
      ]
     },
     "execution_count": 73,
     "metadata": {},
     "output_type": "execute_result"
    }
   ],
   "source": [
    "print('FINAL KNN METRICS:')\n",
    "regression_metrics(y_test, grid_search.predict(X_test), verbose=True)"
   ]
  },
  {
   "cell_type": "code",
   "execution_count": 74,
   "metadata": {},
   "outputs": [
    {
     "name": "stdout",
     "output_type": "stream",
     "text": [
      "MAE:  0.0\n",
      "MSE:  0.0\n",
      "RMSE: 0.0\n",
      "MAPE: 0.0\n",
      "R2:   1.0\n",
      "\n"
     ]
    },
    {
     "data": {
      "text/plain": [
       "(0.0, 0.0, 0.0, 0.0, 1.0)"
      ]
     },
     "execution_count": 74,
     "metadata": {},
     "output_type": "execute_result"
    }
   ],
   "source": [
    "regression_metrics(y_fit, grid_search.predict(X_fit), verbose=True)"
   ]
  },
  {
   "cell_type": "raw",
   "metadata": {},
   "source": [
    "FINAL KNN METRICS:\n",
    "MAE:  0.822720457465188\n",
    "MSE:  1.2513069714640999\n",
    "RMSE: 1.1186183314536284\n",
    "MAPE: 0.07230392898775811\n",
    "R2:   0.9117540699682157"
   ]
  },
  {
   "cell_type": "markdown",
   "metadata": {},
   "source": [
    "__Задача:__ \n",
    "* обучить понравившуюся Вам модель и подобрать к ней гиперпараметры;\n",
    "* выбрать метрику качества и сравнить с KNN."
   ]
  },
  {
   "cell_type": "code",
   "execution_count": null,
   "metadata": {},
   "outputs": [],
   "source": []
  },
  {
   "cell_type": "markdown",
   "metadata": {},
   "source": [
    "# 3. Отбор признаков\n",
    "\n",
    "Sklearn обладает инструментами для отбора признаков ([ссылка на документацию](https://scikit-learn.org/stable/modules/feature_selection.html)).\n",
    "\n",
    "* Удаление признаков с малой дисперсией.\n",
    "* Отбор признаков с помощью статистических критериев.\n",
    "* С помощью $L_1$ регуляризации.\n",
    "* Рекурсивный отбор признаков.\n",
    "* Последовательный отбор признаков."
   ]
  },
  {
   "cell_type": "code",
   "execution_count": 85,
   "metadata": {},
   "outputs": [],
   "source": [
    "from sklearn.feature_selection import (\n",
    "    f_regression,\n",
    "    SelectKBest,\n",
    "    SelectFromModel,\n",
    "    RFE,\n",
    "    SequentialFeatureSelector\n",
    ")"
   ]
  },
  {
   "cell_type": "markdown",
   "metadata": {},
   "source": [
    "Выбор с помощью модели:"
   ]
  },
  {
   "cell_type": "code",
   "execution_count": 79,
   "metadata": {},
   "outputs": [],
   "source": [
    "from sklearn.linear_model import LinearRegression\n",
    "\n",
    "\n",
    "features = np.random.normal(size=(128, 16))\n",
    "targets = 0.1 + 0.05 * features[:, 0] + 0.02 * features[:, 2] - 0.1 * features[:, 4] + np.random.normal(scale=1)"
   ]
  },
  {
   "cell_type": "code",
   "execution_count": 80,
   "metadata": {},
   "outputs": [
    {
     "data": {
      "text/plain": [
       "array([ True, False,  True, False,  True, False, False, False, False,\n",
       "       False, False, False, False, False, False, False])"
      ]
     },
     "metadata": {},
     "output_type": "display_data"
    },
    {
     "data": {
      "text/plain": [
       "array([[-0.47962266,  1.72931129,  0.32654216],\n",
       "       [ 0.25732349, -0.69511465, -1.88886454],\n",
       "       [-0.42097341,  1.02867865,  2.47673055],\n",
       "       [ 0.74480749,  0.66961826,  0.32600222],\n",
       "       [-0.77902956, -0.47399566, -0.27826127]])"
      ]
     },
     "execution_count": 80,
     "metadata": {},
     "output_type": "execute_result"
    }
   ],
   "source": [
    "selector = SelectFromModel(LinearRegression(), max_features=16)\n",
    "selector.fit(features, targets)\n",
    "\n",
    "display(selector.get_support())\n",
    "selector.transform(features)[:5]"
   ]
  },
  {
   "cell_type": "markdown",
   "metadata": {},
   "source": [
    "Рекурсивный отбор признаков:"
   ]
  },
  {
   "cell_type": "code",
   "execution_count": 81,
   "metadata": {},
   "outputs": [
    {
     "data": {
      "text/plain": [
       "array([ True, False,  True, False,  True,  True, False, False,  True,\n",
       "       False, False,  True, False, False, False, False])"
      ]
     },
     "metadata": {},
     "output_type": "display_data"
    },
    {
     "data": {
      "text/plain": [
       "array([[-0.47962266,  1.72931129,  0.32654216,  0.76181532,  0.15270021,\n",
       "         0.63963188],\n",
       "       [ 0.25732349, -0.69511465, -1.88886454, -0.8259531 , -0.22795565,\n",
       "         0.84911401],\n",
       "       [-0.42097341,  1.02867865,  2.47673055,  0.03764266, -1.74788358,\n",
       "        -0.06904095],\n",
       "       [ 0.74480749,  0.66961826,  0.32600222,  0.10423571,  0.88208359,\n",
       "        -0.07654161],\n",
       "       [-0.77902956, -0.47399566, -0.27826127, -0.61392238,  0.30981726,\n",
       "         1.23669561]])"
      ]
     },
     "execution_count": 81,
     "metadata": {},
     "output_type": "execute_result"
    }
   ],
   "source": [
    "selector = RFE(LinearRegression(), n_features_to_select=6)\n",
    "selector.fit(features, targets)\n",
    "\n",
    "display(selector.get_support())\n",
    "selector.transform(features)[:5]"
   ]
  },
  {
   "cell_type": "code",
   "execution_count": 84,
   "metadata": {},
   "outputs": [
    {
     "data": {
      "text/plain": [
       "array([ True, False,  True, False,  True, False, False, False, False,\n",
       "       False, False, False, False, False, False,  True])"
      ]
     },
     "metadata": {},
     "output_type": "display_data"
    },
    {
     "data": {
      "text/plain": [
       "array([[-0.47962266,  1.72931129,  0.32654216,  0.71140138],\n",
       "       [ 0.25732349, -0.69511465, -1.88886454,  0.11285552],\n",
       "       [-0.42097341,  1.02867865,  2.47673055, -2.37464599],\n",
       "       [ 0.74480749,  0.66961826,  0.32600222, -0.0898069 ],\n",
       "       [-0.77902956, -0.47399566, -0.27826127, -0.39845998]])"
      ]
     },
     "execution_count": 84,
     "metadata": {},
     "output_type": "execute_result"
    }
   ],
   "source": [
    "selector = SequentialFeatureSelector(LinearRegression(), n_features_to_select=4, direction='backward')\n",
    "selector.fit(features, targets)\n",
    "\n",
    "display(selector.get_support())\n",
    "selector.transform(features)[:5]"
   ]
  },
  {
   "cell_type": "markdown",
   "metadata": {},
   "source": [
    "Встраиваем в Pipeline:"
   ]
  },
  {
   "cell_type": "code",
   "execution_count": 86,
   "metadata": {},
   "outputs": [
    {
     "data": {
      "text/html": [
       "<style>div.sk-top-container {color: black;background-color: white;}div.sk-toggleable {background-color: white;}label.sk-toggleable__label {cursor: pointer;display: block;width: 100%;margin-bottom: 0;padding: 0.2em 0.3em;box-sizing: border-box;text-align: center;}div.sk-toggleable__content {max-height: 0;max-width: 0;overflow: hidden;text-align: left;background-color: #f0f8ff;}div.sk-toggleable__content pre {margin: 0.2em;color: black;border-radius: 0.25em;background-color: #f0f8ff;}input.sk-toggleable__control:checked~div.sk-toggleable__content {max-height: 200px;max-width: 100%;overflow: auto;}div.sk-estimator input.sk-toggleable__control:checked~label.sk-toggleable__label {background-color: #d4ebff;}div.sk-label input.sk-toggleable__control:checked~label.sk-toggleable__label {background-color: #d4ebff;}input.sk-hidden--visually {border: 0;clip: rect(1px 1px 1px 1px);clip: rect(1px, 1px, 1px, 1px);height: 1px;margin: -1px;overflow: hidden;padding: 0;position: absolute;width: 1px;}div.sk-estimator {font-family: monospace;background-color: #f0f8ff;margin: 0.25em 0.25em;border: 1px dotted black;border-radius: 0.25em;box-sizing: border-box;}div.sk-estimator:hover {background-color: #d4ebff;}div.sk-parallel-item::after {content: \"\";width: 100%;border-bottom: 1px solid gray;flex-grow: 1;}div.sk-label:hover label.sk-toggleable__label {background-color: #d4ebff;}div.sk-serial::before {content: \"\";position: absolute;border-left: 1px solid gray;box-sizing: border-box;top: 2em;bottom: 0;left: 50%;}div.sk-serial {display: flex;flex-direction: column;align-items: center;background-color: white;}div.sk-item {z-index: 1;}div.sk-parallel {display: flex;align-items: stretch;justify-content: center;background-color: white;}div.sk-parallel-item {display: flex;flex-direction: column;position: relative;background-color: white;}div.sk-parallel-item:first-child::after {align-self: flex-end;width: 50%;}div.sk-parallel-item:last-child::after {align-self: flex-start;width: 50%;}div.sk-parallel-item:only-child::after {width: 0;}div.sk-dashed-wrapped {border: 1px dashed gray;margin: 0.2em;box-sizing: border-box;padding-bottom: 0.1em;background-color: white;position: relative;}div.sk-label label {font-family: monospace;font-weight: bold;background-color: white;display: inline-block;line-height: 1.2em;}div.sk-label-container {position: relative;z-index: 2;text-align: center;}div.sk-container {display: inline-block;position: relative;}</style><div class=\"sk-top-container\"><div class=\"sk-container\"><div class=\"sk-item sk-dashed-wrapped\"><div class=\"sk-label-container\"><div class=\"sk-label sk-toggleable\"><input class=\"sk-toggleable__control sk-hidden--visually\" id=\"794471ac-0017-4d90-8e46-98cd096ebb5d\" type=\"checkbox\" ><label class=\"sk-toggleable__label\" for=\"794471ac-0017-4d90-8e46-98cd096ebb5d\">Pipeline</label><div class=\"sk-toggleable__content\"><pre>Pipeline(steps=[('columntransformer',\n",
       "                 ColumnTransformer(transformers=[('standardscaler',\n",
       "                                                  StandardScaler(),\n",
       "                                                  ['displacement', 'horsepower',\n",
       "                                                   'weight', 'acceleration',\n",
       "                                                   'cylinders', 'model_year']),\n",
       "                                                 ('onehotencoder',\n",
       "                                                  OneHotEncoder(drop='first'),\n",
       "                                                  ['origin'])])),\n",
       "                ('selectkbest',\n",
       "                 SelectKBest(k=5,\n",
       "                             score_func=<function f_regression at 0x149220d40>)),\n",
       "                ('linearregression', LinearRegression())])</pre></div></div></div><div class=\"sk-serial\"><div class=\"sk-item sk-dashed-wrapped\"><div class=\"sk-label-container\"><div class=\"sk-label sk-toggleable\"><input class=\"sk-toggleable__control sk-hidden--visually\" id=\"845c3499-6960-4d3c-95e2-4e3699e6c811\" type=\"checkbox\" ><label class=\"sk-toggleable__label\" for=\"845c3499-6960-4d3c-95e2-4e3699e6c811\">columntransformer: ColumnTransformer</label><div class=\"sk-toggleable__content\"><pre>ColumnTransformer(transformers=[('standardscaler', StandardScaler(),\n",
       "                                 ['displacement', 'horsepower', 'weight',\n",
       "                                  'acceleration', 'cylinders', 'model_year']),\n",
       "                                ('onehotencoder', OneHotEncoder(drop='first'),\n",
       "                                 ['origin'])])</pre></div></div></div><div class=\"sk-parallel\"><div class=\"sk-parallel-item\"><div class=\"sk-item\"><div class=\"sk-label-container\"><div class=\"sk-label sk-toggleable\"><input class=\"sk-toggleable__control sk-hidden--visually\" id=\"f1a479e3-1bdd-4248-a1f0-c2fce30884d6\" type=\"checkbox\" ><label class=\"sk-toggleable__label\" for=\"f1a479e3-1bdd-4248-a1f0-c2fce30884d6\">standardscaler</label><div class=\"sk-toggleable__content\"><pre>['displacement', 'horsepower', 'weight', 'acceleration', 'cylinders', 'model_year']</pre></div></div></div><div class=\"sk-serial\"><div class=\"sk-item\"><div class=\"sk-estimator sk-toggleable\"><input class=\"sk-toggleable__control sk-hidden--visually\" id=\"a0b61bed-2ccd-4432-9482-333c2e3bc593\" type=\"checkbox\" ><label class=\"sk-toggleable__label\" for=\"a0b61bed-2ccd-4432-9482-333c2e3bc593\">StandardScaler</label><div class=\"sk-toggleable__content\"><pre>StandardScaler()</pre></div></div></div></div></div></div><div class=\"sk-parallel-item\"><div class=\"sk-item\"><div class=\"sk-label-container\"><div class=\"sk-label sk-toggleable\"><input class=\"sk-toggleable__control sk-hidden--visually\" id=\"3cea1d49-2c7d-4d8e-97b6-94ffee13e022\" type=\"checkbox\" ><label class=\"sk-toggleable__label\" for=\"3cea1d49-2c7d-4d8e-97b6-94ffee13e022\">onehotencoder</label><div class=\"sk-toggleable__content\"><pre>['origin']</pre></div></div></div><div class=\"sk-serial\"><div class=\"sk-item\"><div class=\"sk-estimator sk-toggleable\"><input class=\"sk-toggleable__control sk-hidden--visually\" id=\"314cee72-16d0-456e-b61c-1479c5bc4c54\" type=\"checkbox\" ><label class=\"sk-toggleable__label\" for=\"314cee72-16d0-456e-b61c-1479c5bc4c54\">OneHotEncoder</label><div class=\"sk-toggleable__content\"><pre>OneHotEncoder(drop='first')</pre></div></div></div></div></div></div></div></div><div class=\"sk-item\"><div class=\"sk-estimator sk-toggleable\"><input class=\"sk-toggleable__control sk-hidden--visually\" id=\"371ca745-01e5-4386-a23a-436b50ae3f46\" type=\"checkbox\" ><label class=\"sk-toggleable__label\" for=\"371ca745-01e5-4386-a23a-436b50ae3f46\">SelectKBest</label><div class=\"sk-toggleable__content\"><pre>SelectKBest(k=5, score_func=<function f_regression at 0x149220d40>)</pre></div></div></div><div class=\"sk-item\"><div class=\"sk-estimator sk-toggleable\"><input class=\"sk-toggleable__control sk-hidden--visually\" id=\"0120c7b9-5898-41e3-bec3-cf741cf0b2ed\" type=\"checkbox\" ><label class=\"sk-toggleable__label\" for=\"0120c7b9-5898-41e3-bec3-cf741cf0b2ed\">LinearRegression</label><div class=\"sk-toggleable__content\"><pre>LinearRegression()</pre></div></div></div></div></div></div></div>"
      ],
      "text/plain": [
       "Pipeline(steps=[('columntransformer',\n",
       "                 ColumnTransformer(transformers=[('standardscaler',\n",
       "                                                  StandardScaler(),\n",
       "                                                  ['displacement', 'horsepower',\n",
       "                                                   'weight', 'acceleration',\n",
       "                                                   'cylinders', 'model_year']),\n",
       "                                                 ('onehotencoder',\n",
       "                                                  OneHotEncoder(drop='first'),\n",
       "                                                  ['origin'])])),\n",
       "                ('selectkbest',\n",
       "                 SelectKBest(k=5,\n",
       "                             score_func=<function f_regression at 0x149220d40>)),\n",
       "                ('linearregression', LinearRegression())])"
      ]
     },
     "execution_count": 86,
     "metadata": {},
     "output_type": "execute_result"
    }
   ],
   "source": [
    "selector = SelectKBest(score_func=f_regression, k=5)\n",
    "estimator = LinearRegression()\n",
    "\n",
    "model = make_pipeline(transformer, selector, estimator)\n",
    "model.fit(X_fit, y_fit)"
   ]
  },
  {
   "cell_type": "code",
   "execution_count": 87,
   "metadata": {},
   "outputs": [
    {
     "name": "stdout",
     "output_type": "stream",
     "text": [
      "Fit:\n",
      "MAE:  1.0018041818601024\n",
      "MSE:  1.8812190392068615\n",
      "RMSE: 1.3715753859000466\n",
      "MAPE: 0.09219059870465737\n",
      "R2:   0.879016551992926\n",
      "\n",
      "Test:\n",
      "MAE:  0.9380611803107153\n",
      "MSE:  1.4788264808266876\n",
      "RMSE: 1.2160700970037408\n",
      "MAPE: 0.08266362250396748\n",
      "R2:   0.895708710066972\n",
      "\n"
     ]
    },
    {
     "data": {
      "image/png": "[encoded data removed]",
      "text/plain": [
       "<Figure size 432x432 with 1 Axes>"
      ]
     },
     "metadata": {},
     "output_type": "display_data"
    },
    {
     "data": {
      "text/plain": [
       "(0.9380611803107153,\n",
       " 1.4788264808266876,\n",
       " 1.2160700970037408,\n",
       " 0.08266362250396748,\n",
       " 0.895708710066972)"
      ]
     },
     "execution_count": 87,
     "metadata": {},
     "output_type": "execute_result"
    }
   ],
   "source": [
    "print('Fit:')\n",
    "regression_metrics(y_fit, model.predict(X_fit), verbose=True)\n",
    "\n",
    "print('Test:')\n",
    "regression_metrics(y_test, model.predict(X_test), verbose=True, plot=True)"
   ]
  },
  {
   "cell_type": "code",
   "execution_count": 88,
   "metadata": {
    "scrolled": false
   },
   "outputs": [
    {
     "name": "stdout",
     "output_type": "stream",
     "text": [
      "Fitting 5 folds for each of 512 candidates, totalling 2560 fits\n"
     ]
    },
    {
     "data": {
      "text/html": [
       "<style>div.sk-top-container {color: black;background-color: white;}div.sk-toggleable {background-color: white;}label.sk-toggleable__label {cursor: pointer;display: block;width: 100%;margin-bottom: 0;padding: 0.2em 0.3em;box-sizing: border-box;text-align: center;}div.sk-toggleable__content {max-height: 0;max-width: 0;overflow: hidden;text-align: left;background-color: #f0f8ff;}div.sk-toggleable__content pre {margin: 0.2em;color: black;border-radius: 0.25em;background-color: #f0f8ff;}input.sk-toggleable__control:checked~div.sk-toggleable__content {max-height: 200px;max-width: 100%;overflow: auto;}div.sk-estimator input.sk-toggleable__control:checked~label.sk-toggleable__label {background-color: #d4ebff;}div.sk-label input.sk-toggleable__control:checked~label.sk-toggleable__label {background-color: #d4ebff;}input.sk-hidden--visually {border: 0;clip: rect(1px 1px 1px 1px);clip: rect(1px, 1px, 1px, 1px);height: 1px;margin: -1px;overflow: hidden;padding: 0;position: absolute;width: 1px;}div.sk-estimator {font-family: monospace;background-color: #f0f8ff;margin: 0.25em 0.25em;border: 1px dotted black;border-radius: 0.25em;box-sizing: border-box;}div.sk-estimator:hover {background-color: #d4ebff;}div.sk-parallel-item::after {content: \"\";width: 100%;border-bottom: 1px solid gray;flex-grow: 1;}div.sk-label:hover label.sk-toggleable__label {background-color: #d4ebff;}div.sk-serial::before {content: \"\";position: absolute;border-left: 1px solid gray;box-sizing: border-box;top: 2em;bottom: 0;left: 50%;}div.sk-serial {display: flex;flex-direction: column;align-items: center;background-color: white;}div.sk-item {z-index: 1;}div.sk-parallel {display: flex;align-items: stretch;justify-content: center;background-color: white;}div.sk-parallel-item {display: flex;flex-direction: column;position: relative;background-color: white;}div.sk-parallel-item:first-child::after {align-self: flex-end;width: 50%;}div.sk-parallel-item:last-child::after {align-self: flex-start;width: 50%;}div.sk-parallel-item:only-child::after {width: 0;}div.sk-dashed-wrapped {border: 1px dashed gray;margin: 0.2em;box-sizing: border-box;padding-bottom: 0.1em;background-color: white;position: relative;}div.sk-label label {font-family: monospace;font-weight: bold;background-color: white;display: inline-block;line-height: 1.2em;}div.sk-label-container {position: relative;z-index: 2;text-align: center;}div.sk-container {display: inline-block;position: relative;}</style><div class=\"sk-top-container\"><div class=\"sk-container\"><div class=\"sk-item sk-dashed-wrapped\"><div class=\"sk-label-container\"><div class=\"sk-label sk-toggleable\"><input class=\"sk-toggleable__control sk-hidden--visually\" id=\"2f459b5e-b362-42ee-bf43-2cbd46fcfb42\" type=\"checkbox\" ><label class=\"sk-toggleable__label\" for=\"2f459b5e-b362-42ee-bf43-2cbd46fcfb42\">Pipeline</label><div class=\"sk-toggleable__content\"><pre>Pipeline(steps=[('columntransformer',\n",
       "                 ColumnTransformer(transformers=[('standardscaler',\n",
       "                                                  StandardScaler(with_mean=False),\n",
       "                                                  ['displacement', 'horsepower',\n",
       "                                                   'weight', 'acceleration',\n",
       "                                                   'cylinders', 'model_year']),\n",
       "                                                 ('onehotencoder',\n",
       "                                                  OneHotEncoder(drop='first'),\n",
       "                                                  ['origin'])])),\n",
       "                ('selectkbest',\n",
       "                 SelectKBest(k=7,\n",
       "                             score_func=<function f_regression at 0x149220d40>)),\n",
       "                ('ridge', Ridge(alpha=4.641588833612782))])</pre></div></div></div><div class=\"sk-serial\"><div class=\"sk-item sk-dashed-wrapped\"><div class=\"sk-label-container\"><div class=\"sk-label sk-toggleable\"><input class=\"sk-toggleable__control sk-hidden--visually\" id=\"79f47f50-b178-491e-afae-903f90051008\" type=\"checkbox\" ><label class=\"sk-toggleable__label\" for=\"79f47f50-b178-491e-afae-903f90051008\">columntransformer: ColumnTransformer</label><div class=\"sk-toggleable__content\"><pre>ColumnTransformer(transformers=[('standardscaler',\n",
       "                                 StandardScaler(with_mean=False),\n",
       "                                 ['displacement', 'horsepower', 'weight',\n",
       "                                  'acceleration', 'cylinders', 'model_year']),\n",
       "                                ('onehotencoder', OneHotEncoder(drop='first'),\n",
       "                                 ['origin'])])</pre></div></div></div><div class=\"sk-parallel\"><div class=\"sk-parallel-item\"><div class=\"sk-item\"><div class=\"sk-label-container\"><div class=\"sk-label sk-toggleable\"><input class=\"sk-toggleable__control sk-hidden--visually\" id=\"da78d799-84e8-4427-85a6-c3cbf84e996a\" type=\"checkbox\" ><label class=\"sk-toggleable__label\" for=\"da78d799-84e8-4427-85a6-c3cbf84e996a\">standardscaler</label><div class=\"sk-toggleable__content\"><pre>['displacement', 'horsepower', 'weight', 'acceleration', 'cylinders', 'model_year']</pre></div></div></div><div class=\"sk-serial\"><div class=\"sk-item\"><div class=\"sk-estimator sk-toggleable\"><input class=\"sk-toggleable__control sk-hidden--visually\" id=\"db295be1-1cd1-48b0-b356-765e73e1ceb3\" type=\"checkbox\" ><label class=\"sk-toggleable__label\" for=\"db295be1-1cd1-48b0-b356-765e73e1ceb3\">StandardScaler</label><div class=\"sk-toggleable__content\"><pre>StandardScaler(with_mean=False)</pre></div></div></div></div></div></div><div class=\"sk-parallel-item\"><div class=\"sk-item\"><div class=\"sk-label-container\"><div class=\"sk-label sk-toggleable\"><input class=\"sk-toggleable__control sk-hidden--visually\" id=\"9f988e2b-d57b-4016-81c5-337f50adbad7\" type=\"checkbox\" ><label class=\"sk-toggleable__label\" for=\"9f988e2b-d57b-4016-81c5-337f50adbad7\">onehotencoder</label><div class=\"sk-toggleable__content\"><pre>['origin']</pre></div></div></div><div class=\"sk-serial\"><div class=\"sk-item\"><div class=\"sk-estimator sk-toggleable\"><input class=\"sk-toggleable__control sk-hidden--visually\" id=\"46118ebf-f364-4a56-8644-1d56dc601b1b\" type=\"checkbox\" ><label class=\"sk-toggleable__label\" for=\"46118ebf-f364-4a56-8644-1d56dc601b1b\">OneHotEncoder</label><div class=\"sk-toggleable__content\"><pre>OneHotEncoder(drop='first')</pre></div></div></div></div></div></div></div></div><div class=\"sk-item\"><div class=\"sk-estimator sk-toggleable\"><input class=\"sk-toggleable__control sk-hidden--visually\" id=\"43aa2f31-7829-49a2-9b5b-2aa915afba3d\" type=\"checkbox\" ><label class=\"sk-toggleable__label\" for=\"43aa2f31-7829-49a2-9b5b-2aa915afba3d\">SelectKBest</label><div class=\"sk-toggleable__content\"><pre>SelectKBest(k=7, score_func=<function f_regression at 0x149220d40>)</pre></div></div></div><div class=\"sk-item\"><div class=\"sk-estimator sk-toggleable\"><input class=\"sk-toggleable__control sk-hidden--visually\" id=\"a42112cf-5253-4d46-a616-273d050e4ded\" type=\"checkbox\" ><label class=\"sk-toggleable__label\" for=\"a42112cf-5253-4d46-a616-273d050e4ded\">Ridge</label><div class=\"sk-toggleable__content\"><pre>Ridge(alpha=4.641588833612782)</pre></div></div></div></div></div></div></div>"
      ],
      "text/plain": [
       "Pipeline(steps=[('columntransformer',\n",
       "                 ColumnTransformer(transformers=[('standardscaler',\n",
       "                                                  StandardScaler(with_mean=False),\n",
       "                                                  ['displacement', 'horsepower',\n",
       "                                                   'weight', 'acceleration',\n",
       "                                                   'cylinders', 'model_year']),\n",
       "                                                 ('onehotencoder',\n",
       "                                                  OneHotEncoder(drop='first'),\n",
       "                                                  ['origin'])])),\n",
       "                ('selectkbest',\n",
       "                 SelectKBest(k=7,\n",
       "                             score_func=<function f_regression at 0x149220d40>)),\n",
       "                ('ridge', Ridge(alpha=4.641588833612782))])"
      ]
     },
     "execution_count": 88,
     "metadata": {},
     "output_type": "execute_result"
    }
   ],
   "source": [
    "selector = SelectKBest(score_func=f_regression, k=1)\n",
    "estimator = Ridge()\n",
    "\n",
    "pipeline = make_pipeline(transformer, selector, estimator)\n",
    "pipeline.fit(X_fit, y_fit)\n",
    "\n",
    "model = GridSearchCV(pipeline, {\n",
    "    'ridge__alpha': np.logspace(-4, 3, 16),\n",
    "    'ridge__fit_intercept': [False, True],\n",
    "    'columntransformer__standardscaler__with_mean': [False, True],\n",
    "    'selectkbest__k': list(range(1, 9))\n",
    "}, verbose=1, n_jobs=16)\n",
    "model.fit(X_fit, y_fit)\n",
    "model.best_estimator_"
   ]
  },
  {
   "cell_type": "code",
   "execution_count": 89,
   "metadata": {},
   "outputs": [
    {
     "name": "stdout",
     "output_type": "stream",
     "text": [
      "Fit:\n",
      "MAE:  0.9802459043064001\n",
      "MSE:  1.805649638037951\n",
      "RMSE: 1.3437446327475884\n",
      "MAPE: 0.09041156415340186\n",
      "R2:   0.8838765106296934\n",
      "\n",
      "Test:\n",
      "MAE:  0.962844266556017\n",
      "MSE:  1.5684902616403231\n",
      "RMSE: 1.2523938125207754\n",
      "MAPE: 0.0862656821343326\n",
      "R2:   0.8893853506447774\n",
      "\n"
     ]
    },
    {
     "data": {
      "text/plain": [
       "(0.962844266556017,\n",
       " 1.5684902616403231,\n",
       " 1.2523938125207754,\n",
       " 0.0862656821343326,\n",
       " 0.8893853506447774)"
      ]
     },
     "execution_count": 89,
     "metadata": {},
     "output_type": "execute_result"
    }
   ],
   "source": [
    "print('Fit:')\n",
    "regression_metrics(y_fit, model.predict(X_fit), verbose=True)\n",
    "\n",
    "print('Test:')\n",
    "regression_metrics(y_test, model.predict(X_test), verbose=True)"
   ]
  },
  {
   "cell_type": "markdown",
   "metadata": {},
   "source": [
    "# 4. Оценка качества модели на кросс-валидации"
   ]
  },
  {
   "cell_type": "code",
   "execution_count": 91,
   "metadata": {},
   "outputs": [
    {
     "data": {
      "text/html": [
       "<style>div.sk-top-container {color: black;background-color: white;}div.sk-toggleable {background-color: white;}label.sk-toggleable__label {cursor: pointer;display: block;width: 100%;margin-bottom: 0;padding: 0.2em 0.3em;box-sizing: border-box;text-align: center;}div.sk-toggleable__content {max-height: 0;max-width: 0;overflow: hidden;text-align: left;background-color: #f0f8ff;}div.sk-toggleable__content pre {margin: 0.2em;color: black;border-radius: 0.25em;background-color: #f0f8ff;}input.sk-toggleable__control:checked~div.sk-toggleable__content {max-height: 200px;max-width: 100%;overflow: auto;}div.sk-estimator input.sk-toggleable__control:checked~label.sk-toggleable__label {background-color: #d4ebff;}div.sk-label input.sk-toggleable__control:checked~label.sk-toggleable__label {background-color: #d4ebff;}input.sk-hidden--visually {border: 0;clip: rect(1px 1px 1px 1px);clip: rect(1px, 1px, 1px, 1px);height: 1px;margin: -1px;overflow: hidden;padding: 0;position: absolute;width: 1px;}div.sk-estimator {font-family: monospace;background-color: #f0f8ff;margin: 0.25em 0.25em;border: 1px dotted black;border-radius: 0.25em;box-sizing: border-box;}div.sk-estimator:hover {background-color: #d4ebff;}div.sk-parallel-item::after {content: \"\";width: 100%;border-bottom: 1px solid gray;flex-grow: 1;}div.sk-label:hover label.sk-toggleable__label {background-color: #d4ebff;}div.sk-serial::before {content: \"\";position: absolute;border-left: 1px solid gray;box-sizing: border-box;top: 2em;bottom: 0;left: 50%;}div.sk-serial {display: flex;flex-direction: column;align-items: center;background-color: white;}div.sk-item {z-index: 1;}div.sk-parallel {display: flex;align-items: stretch;justify-content: center;background-color: white;}div.sk-parallel-item {display: flex;flex-direction: column;position: relative;background-color: white;}div.sk-parallel-item:first-child::after {align-self: flex-end;width: 50%;}div.sk-parallel-item:last-child::after {align-self: flex-start;width: 50%;}div.sk-parallel-item:only-child::after {width: 0;}div.sk-dashed-wrapped {border: 1px dashed gray;margin: 0.2em;box-sizing: border-box;padding-bottom: 0.1em;background-color: white;position: relative;}div.sk-label label {font-family: monospace;font-weight: bold;background-color: white;display: inline-block;line-height: 1.2em;}div.sk-label-container {position: relative;z-index: 2;text-align: center;}div.sk-container {display: inline-block;position: relative;}</style><div class=\"sk-top-container\"><div class=\"sk-container\"><div class=\"sk-item sk-dashed-wrapped\"><div class=\"sk-label-container\"><div class=\"sk-label sk-toggleable\"><input class=\"sk-toggleable__control sk-hidden--visually\" id=\"e5590f59-aa86-4679-8f5f-0eb3dc6ddf79\" type=\"checkbox\" ><label class=\"sk-toggleable__label\" for=\"e5590f59-aa86-4679-8f5f-0eb3dc6ddf79\">Pipeline</label><div class=\"sk-toggleable__content\"><pre>Pipeline(steps=[('columntransformer',\n",
       "                 ColumnTransformer(transformers=[('standardscaler',\n",
       "                                                  StandardScaler(),\n",
       "                                                  ['displacement', 'horsepower',\n",
       "                                                   'weight', 'acceleration',\n",
       "                                                   'cylinders', 'model_year']),\n",
       "                                                 ('onehotencoder',\n",
       "                                                  OneHotEncoder(drop='first'),\n",
       "                                                  ['origin'])])),\n",
       "                ('ridge', Ridge(alpha=0.01))])</pre></div></div></div><div class=\"sk-serial\"><div class=\"sk-item sk-dashed-wrapped\"><div class=\"sk-label-container\"><div class=\"sk-label sk-toggleable\"><input class=\"sk-toggleable__control sk-hidden--visually\" id=\"49b5984b-b37f-48d9-a9e0-8963022a88d4\" type=\"checkbox\" ><label class=\"sk-toggleable__label\" for=\"49b5984b-b37f-48d9-a9e0-8963022a88d4\">columntransformer: ColumnTransformer</label><div class=\"sk-toggleable__content\"><pre>ColumnTransformer(transformers=[('standardscaler', StandardScaler(),\n",
       "                                 ['displacement', 'horsepower', 'weight',\n",
       "                                  'acceleration', 'cylinders', 'model_year']),\n",
       "                                ('onehotencoder', OneHotEncoder(drop='first'),\n",
       "                                 ['origin'])])</pre></div></div></div><div class=\"sk-parallel\"><div class=\"sk-parallel-item\"><div class=\"sk-item\"><div class=\"sk-label-container\"><div class=\"sk-label sk-toggleable\"><input class=\"sk-toggleable__control sk-hidden--visually\" id=\"11e47807-f83e-4de3-a825-818168fc2cd0\" type=\"checkbox\" ><label class=\"sk-toggleable__label\" for=\"11e47807-f83e-4de3-a825-818168fc2cd0\">standardscaler</label><div class=\"sk-toggleable__content\"><pre>['displacement', 'horsepower', 'weight', 'acceleration', 'cylinders', 'model_year']</pre></div></div></div><div class=\"sk-serial\"><div class=\"sk-item\"><div class=\"sk-estimator sk-toggleable\"><input class=\"sk-toggleable__control sk-hidden--visually\" id=\"64356bbd-17b9-4dfb-bbbe-0451c4cfc89b\" type=\"checkbox\" ><label class=\"sk-toggleable__label\" for=\"64356bbd-17b9-4dfb-bbbe-0451c4cfc89b\">StandardScaler</label><div class=\"sk-toggleable__content\"><pre>StandardScaler()</pre></div></div></div></div></div></div><div class=\"sk-parallel-item\"><div class=\"sk-item\"><div class=\"sk-label-container\"><div class=\"sk-label sk-toggleable\"><input class=\"sk-toggleable__control sk-hidden--visually\" id=\"eea88705-e660-4d6e-a857-3eaf680fa44e\" type=\"checkbox\" ><label class=\"sk-toggleable__label\" for=\"eea88705-e660-4d6e-a857-3eaf680fa44e\">onehotencoder</label><div class=\"sk-toggleable__content\"><pre>['origin']</pre></div></div></div><div class=\"sk-serial\"><div class=\"sk-item\"><div class=\"sk-estimator sk-toggleable\"><input class=\"sk-toggleable__control sk-hidden--visually\" id=\"d7096ddd-77a8-48ae-b19c-be15776e7241\" type=\"checkbox\" ><label class=\"sk-toggleable__label\" for=\"d7096ddd-77a8-48ae-b19c-be15776e7241\">OneHotEncoder</label><div class=\"sk-toggleable__content\"><pre>OneHotEncoder(drop='first')</pre></div></div></div></div></div></div></div></div><div class=\"sk-item\"><div class=\"sk-estimator sk-toggleable\"><input class=\"sk-toggleable__control sk-hidden--visually\" id=\"700a119c-6785-4f3b-96f0-6b1105f1b88a\" type=\"checkbox\" ><label class=\"sk-toggleable__label\" for=\"700a119c-6785-4f3b-96f0-6b1105f1b88a\">Ridge</label><div class=\"sk-toggleable__content\"><pre>Ridge(alpha=0.01)</pre></div></div></div></div></div></div></div>"
      ],
      "text/plain": [
       "Pipeline(steps=[('columntransformer',\n",
       "                 ColumnTransformer(transformers=[('standardscaler',\n",
       "                                                  StandardScaler(),\n",
       "                                                  ['displacement', 'horsepower',\n",
       "                                                   'weight', 'acceleration',\n",
       "                                                   'cylinders', 'model_year']),\n",
       "                                                 ('onehotencoder',\n",
       "                                                  OneHotEncoder(drop='first'),\n",
       "                                                  ['origin'])])),\n",
       "                ('ridge', Ridge(alpha=0.01))])"
      ]
     },
     "execution_count": 91,
     "metadata": {},
     "output_type": "execute_result"
    }
   ],
   "source": [
    "estimator = Ridge(alpha=0.01)\n",
    "model = make_pipeline(transformer, estimator)\n",
    "model"
   ]
  },
  {
   "cell_type": "code",
   "execution_count": 92,
   "metadata": {},
   "outputs": [
    {
     "data": {
      "text/html": [
       "<div>\n",
       "<style scoped>\n",
       "    .dataframe tbody tr th:only-of-type {\n",
       "        vertical-align: middle;\n",
       "    }\n",
       "\n",
       "    .dataframe tbody tr th {\n",
       "        vertical-align: top;\n",
       "    }\n",
       "\n",
       "    .dataframe thead th {\n",
       "        text-align: right;\n",
       "    }\n",
       "</style>\n",
       "<table border=\"1\" class=\"dataframe\">\n",
       "  <thead>\n",
       "    <tr style=\"text-align: right;\">\n",
       "      <th></th>\n",
       "      <th>mae</th>\n",
       "      <th>mse</th>\n",
       "      <th>rmse</th>\n",
       "      <th>mape</th>\n",
       "      <th>r2</th>\n",
       "    </tr>\n",
       "  </thead>\n",
       "  <tbody>\n",
       "    <tr>\n",
       "      <th>0</th>\n",
       "      <td>0.981373</td>\n",
       "      <td>1.561772</td>\n",
       "      <td>1.249709</td>\n",
       "      <td>0.088764</td>\n",
       "      <td>0.889859</td>\n",
       "    </tr>\n",
       "    <tr>\n",
       "      <th>1</th>\n",
       "      <td>0.987270</td>\n",
       "      <td>1.809605</td>\n",
       "      <td>1.345215</td>\n",
       "      <td>0.091567</td>\n",
       "      <td>0.856615</td>\n",
       "    </tr>\n",
       "    <tr>\n",
       "      <th>2</th>\n",
       "      <td>1.117476</td>\n",
       "      <td>2.472154</td>\n",
       "      <td>1.572308</td>\n",
       "      <td>0.101970</td>\n",
       "      <td>0.861524</td>\n",
       "    </tr>\n",
       "    <tr>\n",
       "      <th>3</th>\n",
       "      <td>1.031640</td>\n",
       "      <td>1.929441</td>\n",
       "      <td>1.389043</td>\n",
       "      <td>0.091670</td>\n",
       "      <td>0.889927</td>\n",
       "    </tr>\n",
       "    <tr>\n",
       "      <th>4</th>\n",
       "      <td>0.899956</td>\n",
       "      <td>1.475619</td>\n",
       "      <td>1.214751</td>\n",
       "      <td>0.086569</td>\n",
       "      <td>0.889826</td>\n",
       "    </tr>\n",
       "  </tbody>\n",
       "</table>\n",
       "</div>"
      ],
      "text/plain": [
       "        mae       mse      rmse      mape        r2\n",
       "0  0.981373  1.561772  1.249709  0.088764  0.889859\n",
       "1  0.987270  1.809605  1.345215  0.091567  0.856615\n",
       "2  1.117476  2.472154  1.572308  0.101970  0.861524\n",
       "3  1.031640  1.929441  1.389043  0.091670  0.889927\n",
       "4  0.899956  1.475619  1.214751  0.086569  0.889826"
      ]
     },
     "execution_count": 92,
     "metadata": {},
     "output_type": "execute_result"
    }
   ],
   "source": [
    "from sklearn.model_selection import KFold\n",
    "\n",
    "\n",
    "cv = KFold(n_splits=5, shuffle=True, random_state=42)\n",
    "\n",
    "metrics = []\n",
    "\n",
    "for fit_index, test_index in cv.split(X, y):\n",
    "    X_fit = X.iloc[fit_index]\n",
    "    X_test = X.iloc[test_index]\n",
    "    \n",
    "    y_fit = y.iloc[fit_index]\n",
    "    y_test = y.iloc[test_index]\n",
    "    \n",
    "    model.fit(X_fit, y_fit)\n",
    "    pred_test = model.predict(X_test)\n",
    "    \n",
    "    metrics.append(regression_metrics(y_test, pred_test))\n",
    "    \n",
    "metrics = pd.DataFrame(metrics, columns=['mae', 'mse', 'rmse', 'mape', 'r2'])\n",
    "metrics"
   ]
  },
  {
   "cell_type": "code",
   "execution_count": 93,
   "metadata": {},
   "outputs": [
    {
     "data": {
      "text/plain": [
       "mae     1.003543\n",
       "mse     1.849718\n",
       "rmse    1.354205\n",
       "mape    0.092108\n",
       "r2      0.877550\n",
       "dtype: float64"
      ]
     },
     "execution_count": 93,
     "metadata": {},
     "output_type": "execute_result"
    }
   ],
   "source": [
    "metrics.mean()"
   ]
  },
  {
   "cell_type": "markdown",
   "metadata": {},
   "source": [
    "Из коробки:"
   ]
  },
  {
   "cell_type": "code",
   "execution_count": 94,
   "metadata": {},
   "outputs": [
    {
     "data": {
      "text/plain": [
       "array([-1.5617725 , -1.80960454, -2.47215384, -1.92944142, -1.47561944])"
      ]
     },
     "execution_count": 94,
     "metadata": {},
     "output_type": "execute_result"
    }
   ],
   "source": [
    "from sklearn.model_selection import cross_val_score\n",
    "\n",
    "\n",
    "cv_result = cross_val_score(model, X, y, cv=cv, scoring='neg_mean_squared_error')\n",
    "cv_result"
   ]
  },
  {
   "cell_type": "code",
   "execution_count": 95,
   "metadata": {},
   "outputs": [
    {
     "data": {
      "text/plain": [
       "-1.8497183466864513"
      ]
     },
     "execution_count": 95,
     "metadata": {},
     "output_type": "execute_result"
    }
   ],
   "source": [
    "cv_result.mean()"
   ]
  },
  {
   "cell_type": "code",
   "execution_count": 100,
   "metadata": {},
   "outputs": [],
   "source": [
    "from sklearn.metrics import jaccard_score"
   ]
  },
  {
   "cell_type": "code",
   "execution_count": 101,
   "metadata": {},
   "outputs": [],
   "source": [
    "?jaccard_score"
   ]
  },
  {
   "cell_type": "code",
   "execution_count": 97,
   "metadata": {},
   "outputs": [
    {
     "data": {
      "text/plain": [
       "{'explained_variance': make_scorer(explained_variance_score),\n",
       " 'r2': make_scorer(r2_score),\n",
       " 'max_error': make_scorer(max_error, greater_is_better=False),\n",
       " 'neg_median_absolute_error': make_scorer(median_absolute_error, greater_is_better=False),\n",
       " 'neg_mean_absolute_error': make_scorer(mean_absolute_error, greater_is_better=False),\n",
       " 'neg_mean_absolute_percentage_error': make_scorer(mean_absolute_percentage_error, greater_is_better=False),\n",
       " 'neg_mean_squared_error': make_scorer(mean_squared_error, greater_is_better=False),\n",
       " 'neg_mean_squared_log_error': make_scorer(mean_squared_log_error, greater_is_better=False),\n",
       " 'neg_root_mean_squared_error': make_scorer(mean_squared_error, greater_is_better=False, squared=False),\n",
       " 'neg_mean_poisson_deviance': make_scorer(mean_poisson_deviance, greater_is_better=False),\n",
       " 'neg_mean_gamma_deviance': make_scorer(mean_gamma_deviance, greater_is_better=False),\n",
       " 'accuracy': make_scorer(accuracy_score),\n",
       " 'top_k_accuracy': make_scorer(top_k_accuracy_score, needs_threshold=True),\n",
       " 'roc_auc': make_scorer(roc_auc_score, needs_threshold=True),\n",
       " 'roc_auc_ovr': make_scorer(roc_auc_score, needs_proba=True, multi_class=ovr),\n",
       " 'roc_auc_ovo': make_scorer(roc_auc_score, needs_proba=True, multi_class=ovo),\n",
       " 'roc_auc_ovr_weighted': make_scorer(roc_auc_score, needs_proba=True, multi_class=ovr, average=weighted),\n",
       " 'roc_auc_ovo_weighted': make_scorer(roc_auc_score, needs_proba=True, multi_class=ovo, average=weighted),\n",
       " 'balanced_accuracy': make_scorer(balanced_accuracy_score),\n",
       " 'average_precision': make_scorer(average_precision_score, needs_threshold=True),\n",
       " 'neg_log_loss': make_scorer(log_loss, greater_is_better=False, needs_proba=True),\n",
       " 'neg_brier_score': make_scorer(brier_score_loss, greater_is_better=False, needs_proba=True),\n",
       " 'adjusted_rand_score': make_scorer(adjusted_rand_score),\n",
       " 'rand_score': make_scorer(rand_score),\n",
       " 'homogeneity_score': make_scorer(homogeneity_score),\n",
       " 'completeness_score': make_scorer(completeness_score),\n",
       " 'v_measure_score': make_scorer(v_measure_score),\n",
       " 'mutual_info_score': make_scorer(mutual_info_score),\n",
       " 'adjusted_mutual_info_score': make_scorer(adjusted_mutual_info_score),\n",
       " 'normalized_mutual_info_score': make_scorer(normalized_mutual_info_score),\n",
       " 'fowlkes_mallows_score': make_scorer(fowlkes_mallows_score),\n",
       " 'precision': make_scorer(precision_score, average=binary),\n",
       " 'precision_macro': make_scorer(precision_score, pos_label=None, average=macro),\n",
       " 'precision_micro': make_scorer(precision_score, pos_label=None, average=micro),\n",
       " 'precision_samples': make_scorer(precision_score, pos_label=None, average=samples),\n",
       " 'precision_weighted': make_scorer(precision_score, pos_label=None, average=weighted),\n",
       " 'recall': make_scorer(recall_score, average=binary),\n",
       " 'recall_macro': make_scorer(recall_score, pos_label=None, average=macro),\n",
       " 'recall_micro': make_scorer(recall_score, pos_label=None, average=micro),\n",
       " 'recall_samples': make_scorer(recall_score, pos_label=None, average=samples),\n",
       " 'recall_weighted': make_scorer(recall_score, pos_label=None, average=weighted),\n",
       " 'f1': make_scorer(f1_score, average=binary),\n",
       " 'f1_macro': make_scorer(f1_score, pos_label=None, average=macro),\n",
       " 'f1_micro': make_scorer(f1_score, pos_label=None, average=micro),\n",
       " 'f1_samples': make_scorer(f1_score, pos_label=None, average=samples),\n",
       " 'f1_weighted': make_scorer(f1_score, pos_label=None, average=weighted),\n",
       " 'jaccard': make_scorer(jaccard_score, average=binary),\n",
       " 'jaccard_macro': make_scorer(jaccard_score, pos_label=None, average=macro),\n",
       " 'jaccard_micro': make_scorer(jaccard_score, pos_label=None, average=micro),\n",
       " 'jaccard_samples': make_scorer(jaccard_score, pos_label=None, average=samples),\n",
       " 'jaccard_weighted': make_scorer(jaccard_score, pos_label=None, average=weighted)}"
      ]
     },
     "execution_count": 97,
     "metadata": {},
     "output_type": "execute_result"
    }
   ],
   "source": [
    "from sklearn.metrics import SCORERS\n",
    "\n",
    "SCORERS"
   ]
  },
  {
   "cell_type": "markdown",
   "metadata": {},
   "source": [
    "Несколько метрик:"
   ]
  },
  {
   "cell_type": "code",
   "execution_count": 98,
   "metadata": {},
   "outputs": [
    {
     "data": {
      "text/plain": [
       "{'fit_time': array([0.01896811, 0.01050115, 0.00951004, 0.00825691, 0.00915599]),\n",
       " 'score_time': array([0.00644398, 0.00584602, 0.00520492, 0.00520706, 0.00557494]),\n",
       " 'test_neg_mean_absolute_error': array([-0.98137253, -0.98726984, -1.11747559, -1.03163999, -0.89995615]),\n",
       " 'test_neg_mean_squared_error': array([-1.5617725 , -1.80960454, -2.47215384, -1.92944142, -1.47561944]),\n",
       " 'test_r2': array([0.88985911, 0.85661502, 0.86152436, 0.88992746, 0.88982628])}"
      ]
     },
     "execution_count": 98,
     "metadata": {},
     "output_type": "execute_result"
    }
   ],
   "source": [
    "from sklearn.model_selection import cross_validate\n",
    "\n",
    "\n",
    "cv_result = cross_validate(model, X, y, cv=cv, \n",
    "                           scoring=['neg_mean_absolute_error', 'neg_mean_squared_error', 'r2'])\n",
    "cv_result"
   ]
  },
  {
   "cell_type": "raw",
   "metadata": {},
   "source": [
    "mae     1.003543\n",
    "mse     1.849718\n",
    "rmse    1.354205\n",
    "mape    0.092108\n",
    "r2      0.877550\n",
    "dtype: float64"
   ]
  },
  {
   "cell_type": "code",
   "execution_count": 99,
   "metadata": {},
   "outputs": [
    {
     "data": {
      "text/plain": [
       "{'fit_time': 0.011278438568115234,\n",
       " 'score_time': 0.0056553840637207035,\n",
       " 'test_neg_mean_absolute_error': -1.0035428172718521,\n",
       " 'test_neg_mean_squared_error': -1.8497183466864513,\n",
       " 'test_r2': 0.8775504450675523}"
      ]
     },
     "execution_count": 99,
     "metadata": {},
     "output_type": "execute_result"
    }
   ],
   "source": [
    "{k: np.mean(v) for k, v in cv_result.items()}"
   ]
  },
  {
   "cell_type": "code",
   "execution_count": null,
   "metadata": {},
   "outputs": [],
   "source": []
  }
 ],
 "metadata": {
  "kernelspec": {
   "display_name": "Python 3.7.9 venv",
   "language": "python",
   "name": "python37"
  },
  "language_info": {
   "codemirror_mode": {
    "name": "ipython",
    "version": 3
   },
   "file_extension": ".py",
   "mimetype": "text/x-python",
   "name": "python",
   "nbconvert_exporter": "python",
   "pygments_lexer": "ipython3",
   "version": "3.7.9"
  }
 },
 "nbformat": 4,
 "nbformat_minor": 4
}
