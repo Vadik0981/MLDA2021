{
 "cells": [
  {
   "cell_type": "markdown",
   "metadata": {},
   "source": [
    "# Семинар 5. Оценки качества моделей в задачах регрессии и классификации\n",
    "\n",
    "Подключение библиотек. \n",
    "$\n",
    "\\newcommand{\\R}{\\mathbb{R}}\n",
    "\\newcommand{\\X}{\\mathbb{X}}\n",
    "\\newcommand{\\norm}[1]{\\lVert #1 \\rVert}\n",
    "\\newcommand{\\abs}[1]{\\left| #1 \\right|}\n",
    "\\newcommand{\\E}{\\mathbb{E}}\n",
    "\\newcommand{\\D}{\\mathbb{D}}\n",
    "\\renewcommand{\\Prob}{\\mathbb{P}}\n",
    "\\renewcommand{\\le}{\\leqslant}\n",
    "\\renewcommand{\\ge}{\\geqslant}\n",
    "\\newcommand{\\eps}{\\varepsilon}\n",
    "\\newcommand{\\Normal}{\\mathcal{N}}\n",
    "\\DeclareMathOperator{\\TP}{TP}\n",
    "\\DeclareMathOperator{\\FP}{FP}\n",
    "\\DeclareMathOperator{\\TN}{TN}\n",
    "\\DeclareMathOperator{\\FN}{FN}\n",
    "\\DeclareMathOperator{\\Accuracy}{Accuracy}\n",
    "\\DeclareMathOperator{\\Precision}{Precision}\n",
    "\\DeclareMathOperator{\\Recall}{Recall}\n",
    "\\DeclareMathOperator{\\Fscore}{F_1}\n",
    "\\DeclareMathOperator{\\MSE}{MSE}\n",
    "\\DeclareMathOperator{\\RMSE}{RMSE}\n",
    "\\DeclareMathOperator{\\MAE}{MAE}\n",
    "\\DeclareMathOperator{\\MAPE}{MAPE}\n",
    "\\DeclareMathOperator{\\Rsqured}{R^2}\n",
    "$"
   ]
  },
  {
   "cell_type": "code",
   "execution_count": 1,
   "metadata": {},
   "outputs": [],
   "source": [
    "import numpy as np\n",
    "import pandas as pd\n",
    "\n",
    "import matplotlib.pyplot as plt\n",
    "import seaborn as sns\n",
    "import ipywidgets as wg\n",
    "\n",
    "from matplotlib.colors import ListedColormap\n",
    "\n",
    "import warnings\n",
    "warnings.filterwarnings(\"ignore\", 'This pattern has match groups')\n",
    "\n",
    "RdGn = ListedColormap(['red', 'green'])\n",
    "plt.style.use('ggplot')\n",
    "plt.rcParams['figure.figsize'] = (12, 4)"
   ]
  },
  {
   "cell_type": "markdown",
   "metadata": {},
   "source": [
    "# 1. Регрессия\n",
    "\n",
    "Рассмотрим датасет __mpg__. По характеристикам машины необходимо спрогнозировать расход топлива.\n",
    "\n",
    "Признаки:\n",
    "* cylinders -- число цилиндров в двигателе;\n",
    "* displacement -- рабочий объем, л;\n",
    "* horsepower -- мощность, л.с.;\n",
    "* weight -- вес, т;\n",
    "* acceleration -- ускорение;\n",
    "* model_year -- год выпуска модели;\n",
    "* origin -- производитель;\n",
    "* name -- название.\n",
    "\n",
    "Целевая переменная:\n",
    "* mpg -- миль на галлон, переведено в км/л."
   ]
  },
  {
   "cell_type": "code",
   "execution_count": 2,
   "metadata": {},
   "outputs": [
    {
     "data": {
      "text/html": [
       "<div>\n",
       "<style scoped>\n",
       "    .dataframe tbody tr th:only-of-type {\n",
       "        vertical-align: middle;\n",
       "    }\n",
       "\n",
       "    .dataframe tbody tr th {\n",
       "        vertical-align: top;\n",
       "    }\n",
       "\n",
       "    .dataframe thead th {\n",
       "        text-align: right;\n",
       "    }\n",
       "</style>\n",
       "<table border=\"1\" class=\"dataframe\">\n",
       "  <thead>\n",
       "    <tr style=\"text-align: right;\">\n",
       "      <th></th>\n",
       "      <th>mpg</th>\n",
       "      <th>cylinders</th>\n",
       "      <th>displacement</th>\n",
       "      <th>horsepower</th>\n",
       "      <th>weight</th>\n",
       "      <th>acceleration</th>\n",
       "      <th>model_year</th>\n",
       "      <th>origin</th>\n",
       "      <th>name</th>\n",
       "    </tr>\n",
       "  </thead>\n",
       "  <tbody>\n",
       "    <tr>\n",
       "      <th>0</th>\n",
       "      <td>13.067503</td>\n",
       "      <td>8</td>\n",
       "      <td>5.030840</td>\n",
       "      <td>130.0</td>\n",
       "      <td>1.589386</td>\n",
       "      <td>12.0</td>\n",
       "      <td>70</td>\n",
       "      <td>usa</td>\n",
       "      <td>chevrolet chevelle malibu</td>\n",
       "    </tr>\n",
       "    <tr>\n",
       "      <th>1</th>\n",
       "      <td>15.681004</td>\n",
       "      <td>8</td>\n",
       "      <td>5.735485</td>\n",
       "      <td>165.0</td>\n",
       "      <td>1.675115</td>\n",
       "      <td>11.5</td>\n",
       "      <td>70</td>\n",
       "      <td>usa</td>\n",
       "      <td>buick skylark 320</td>\n",
       "    </tr>\n",
       "    <tr>\n",
       "      <th>2</th>\n",
       "      <td>13.067503</td>\n",
       "      <td>8</td>\n",
       "      <td>5.211098</td>\n",
       "      <td>150.0</td>\n",
       "      <td>1.558542</td>\n",
       "      <td>11.0</td>\n",
       "      <td>70</td>\n",
       "      <td>usa</td>\n",
       "      <td>plymouth satellite</td>\n",
       "    </tr>\n",
       "    <tr>\n",
       "      <th>3</th>\n",
       "      <td>14.700941</td>\n",
       "      <td>8</td>\n",
       "      <td>4.981678</td>\n",
       "      <td>150.0</td>\n",
       "      <td>1.557181</td>\n",
       "      <td>12.0</td>\n",
       "      <td>70</td>\n",
       "      <td>usa</td>\n",
       "      <td>amc rebel sst</td>\n",
       "    </tr>\n",
       "    <tr>\n",
       "      <th>4</th>\n",
       "      <td>13.836180</td>\n",
       "      <td>8</td>\n",
       "      <td>4.948904</td>\n",
       "      <td>140.0</td>\n",
       "      <td>1.564439</td>\n",
       "      <td>10.5</td>\n",
       "      <td>70</td>\n",
       "      <td>usa</td>\n",
       "      <td>ford torino</td>\n",
       "    </tr>\n",
       "  </tbody>\n",
       "</table>\n",
       "</div>"
      ],
      "text/plain": [
       "         mpg  cylinders  displacement  horsepower    weight  acceleration  \\\n",
       "0  13.067503          8      5.030840       130.0  1.589386          12.0   \n",
       "1  15.681004          8      5.735485       165.0  1.675115          11.5   \n",
       "2  13.067503          8      5.211098       150.0  1.558542          11.0   \n",
       "3  14.700941          8      4.981678       150.0  1.557181          12.0   \n",
       "4  13.836180          8      4.948904       140.0  1.564439          10.5   \n",
       "\n",
       "   model_year origin                       name  \n",
       "0          70    usa  chevrolet chevelle malibu  \n",
       "1          70    usa          buick skylark 320  \n",
       "2          70    usa         plymouth satellite  \n",
       "3          70    usa              amc rebel sst  \n",
       "4          70    usa                ford torino  "
      ]
     },
     "execution_count": 2,
     "metadata": {},
     "output_type": "execute_result"
    }
   ],
   "source": [
    "frame = sns.load_dataset('mpg')\n",
    "frame.dropna(inplace=True)\n",
    "\n",
    "frame['displacement'] *= 16.3871 / 1000\n",
    "frame['mpg'] = 100 / (frame.mpg * 1.60934 / 3.78541)\n",
    "frame['weight'] *= 0.453592 / 1000\n",
    "\n",
    "frame.head()"
   ]
  },
  {
   "cell_type": "markdown",
   "metadata": {},
   "source": [
    "Изучим данные:"
   ]
  },
  {
   "cell_type": "code",
   "execution_count": 3,
   "metadata": {},
   "outputs": [],
   "source": [
    "# изучить"
   ]
  },
  {
   "cell_type": "markdown",
   "metadata": {},
   "source": [
    "* Готовим данные.\n",
    "* Разбиваем на train, validation и test."
   ]
  },
  {
   "cell_type": "code",
   "execution_count": 4,
   "metadata": {},
   "outputs": [],
   "source": [
    "X = frame.drop(columns=['mpg', 'name']).copy()\n",
    "y = frame.mpg.copy()"
   ]
  },
  {
   "cell_type": "code",
   "execution_count": 5,
   "metadata": {},
   "outputs": [
    {
     "name": "stdout",
     "output_type": "stream",
     "text": [
      "Train size: 281\n",
      "Valid size: 32\n",
      "Test size: 79\n"
     ]
    }
   ],
   "source": [
    "from sklearn.model_selection import train_test_split\n",
    "\n",
    "\n",
    "X_fit, X_test, y_fit, y_test = train_test_split(X, y, test_size=0.2, random_state=42)\n",
    "X_train, X_valid, y_train, y_valid = train_test_split(X_fit, y_fit, test_size=0.1, random_state=42)\n",
    "\n",
    "print('Train size:', X_train.shape[0])\n",
    "print('Valid size:', X_valid.shape[0])\n",
    "print('Test size:', X_test.shape[0])"
   ]
  },
  {
   "cell_type": "markdown",
   "metadata": {},
   "source": [
    "## Строим модель\n",
    "\n",
    "Воспользуемся инструментами sklearn для организации препроцессинга данных и обучения модели:\n",
    "* создадим transformer, который нормализует числовые и закодирует категориальные признаки;\n",
    "* создадим estimator, который по признакам будет предсказывать расход топлива;\n",
    "* объединим transformer и estimator в единый pipeline."
   ]
  },
  {
   "cell_type": "code",
   "execution_count": 6,
   "metadata": {},
   "outputs": [
    {
     "data": {
      "text/plain": [
       "ColumnTransformer(transformers=[('standardscaler', StandardScaler(),\n",
       "                                 ['displacement', 'horsepower', 'weight',\n",
       "                                  'acceleration', 'cylinders', 'model_year']),\n",
       "                                ('onehotencoder',\n",
       "                                 OneHotEncoder(drop='first', sparse=False),\n",
       "                                 ['origin'])])"
      ]
     },
     "execution_count": 6,
     "metadata": {},
     "output_type": "execute_result"
    }
   ],
   "source": [
    "from sklearn.compose import make_column_transformer\n",
    "from sklearn.preprocessing import StandardScaler, OneHotEncoder\n",
    "\n",
    "\n",
    "transformer = make_column_transformer(\n",
    "    (StandardScaler(), ['displacement', 'horsepower', 'weight', 'acceleration', 'cylinders', 'model_year']),\n",
    "    (OneHotEncoder(sparse=False, drop='first'), ['origin'])\n",
    ")\n",
    "transformer"
   ]
  },
  {
   "cell_type": "code",
   "execution_count": 7,
   "metadata": {},
   "outputs": [
    {
     "data": {
      "text/plain": [
       "LinearRegression()"
      ]
     },
     "execution_count": 7,
     "metadata": {},
     "output_type": "execute_result"
    }
   ],
   "source": [
    "from sklearn.linear_model import LinearRegression\n",
    "\n",
    "\n",
    "estimator = LinearRegression()\n",
    "estimator"
   ]
  },
  {
   "cell_type": "code",
   "execution_count": 8,
   "metadata": {},
   "outputs": [],
   "source": [
    "from sklearn.pipeline import make_pipeline\n",
    "\n",
    "\n",
    "model = make_pipeline(transformer, estimator)\n",
    "model.fit(X_train, y_train)\n",
    "\n",
    "pred_train = model.predict(X_train)\n",
    "pred_valid = model.predict(X_valid)"
   ]
  },
  {
   "cell_type": "markdown",
   "metadata": {},
   "source": [
    "Считаем метрики:\n",
    "* Mean Absolute Error: $\\frac{1}{\\ell} \\cdot \\sum_{i=1}^{\\ell} \\abs{y_i - \\hat{y}_i}.$\n",
    "* Mean Squared Error: $\\frac{1}{\\ell} \\cdot \\sum_{i=1}^{\\ell} (y_i - \\hat{y}_i)^2.$\n",
    "* Rooted Mean Squared Error: $\\sqrt{\\MSE(Y,\\hat{Y})}.$\n",
    "* Mean Absolute Percentage Error: $\\frac{1}{\\ell} \\cdot \\sum_{i=1}^{\\ell} \\abs{\\frac{y_i - \\hat{y}_i}{y_i}}.$\n",
    "* R$^2$: $1 - \\frac{\\sum_{i=1}^{\\ell}(y_i - \\hat{y}_i)^2}{\\sum_{i=1}^{\\ell}(y_i - \\overline{y})^2}.$"
   ]
  },
  {
   "cell_type": "code",
   "execution_count": 9,
   "metadata": {},
   "outputs": [],
   "source": [
    "from sklearn.metrics import mean_absolute_error, mean_squared_error, r2_score\n",
    "\n",
    "\n",
    "def regression_metrics(true, pred, plot=False):\n",
    "    mae = mean_absolute_error(true, pred)\n",
    "    mape = np.abs((true - pred) / true).mean()\n",
    "    mse = mean_squared_error(true, pred)\n",
    "    rmse = np.sqrt(mse)\n",
    "    r2 = r2_score(true, pred)\n",
    "\n",
    "    print('MAE: ', mae)\n",
    "    print('MSE: ', mse)\n",
    "    print('RMSE:', rmse)\n",
    "    print('MAPE:', mape)\n",
    "    print('R2:  ', r2)\n",
    "    print()\n",
    "    \n",
    "    if plot:\n",
    "        plt.figure(0, (6, 6))\n",
    "        plt.scatter(true, pred)\n",
    "        low = min(true.min(), pred.min())\n",
    "        high = max(true.max(), pred.max())\n",
    "\n",
    "        plt.plot([low, high], [low, high], color='blue')\n",
    "        plt.xlabel('Ground Truth')\n",
    "        plt.ylabel('Prediction')\n",
    "        plt.show()"
   ]
  },
  {
   "cell_type": "code",
   "execution_count": 10,
   "metadata": {
    "scrolled": false
   },
   "outputs": [
    {
     "name": "stdout",
     "output_type": "stream",
     "text": [
      "Train:\n",
      "MAE:  1.0065767747191545\n",
      "MSE:  1.8271676975020517\n",
      "RMSE: 1.3517276713532396\n",
      "MAPE: 0.09233873912841212\n",
      "R2:   0.8882760011903309\n",
      "\n",
      "Valid:\n",
      "MAE:  0.933376581613611\n",
      "MSE:  1.5088912483804964\n",
      "RMSE: 1.2283693452624485\n",
      "MAPE: 0.09445993335261486\n",
      "R2:   0.8083777215198819\n",
      "\n"
     ]
    },
    {
     "data": {
      "image/png": "[encoded data removed]",
      "text/plain": [
       "<Figure size 432x432 with 1 Axes>"
      ]
     },
     "metadata": {},
     "output_type": "display_data"
    }
   ],
   "source": [
    "print('Train:')\n",
    "regression_metrics(y_train, pred_train)\n",
    "\n",
    "print('Valid:')\n",
    "regression_metrics(y_valid, pred_valid, plot=True)"
   ]
  },
  {
   "cell_type": "markdown",
   "metadata": {},
   "source": [
    "__Задача (5 минут):__ \n",
    "* обучить модель с регуляризацией;\n",
    "* посчитать метрики на тренировочной выборке и валидационной выборке."
   ]
  },
  {
   "cell_type": "code",
   "execution_count": null,
   "metadata": {},
   "outputs": [],
   "source": []
  },
  {
   "cell_type": "markdown",
   "metadata": {},
   "source": [
    "__Задача (5 минут):__ \n",
    "* выбрать метрику для отбора параметра регуляризации;\n",
    "* построить график зависимости метрики от параметра;\n",
    "* найти лучшие параметры регуляризации по выбранной метрике."
   ]
  },
  {
   "cell_type": "code",
   "execution_count": null,
   "metadata": {},
   "outputs": [],
   "source": []
  },
  {
   "cell_type": "markdown",
   "metadata": {},
   "source": [
    "__Задача (5 минут):__ \n",
    "* обучить итоговую модель с лучшими параметрами на полной тренировочной выборке (train + valid);\n",
    "* оценить итоговую модель на выборке Test."
   ]
  },
  {
   "cell_type": "code",
   "execution_count": null,
   "metadata": {},
   "outputs": [],
   "source": []
  },
  {
   "cell_type": "markdown",
   "metadata": {},
   "source": [
    "# 2. Классификация\n",
    "\n",
    "__Титаник:__\n",
    "* survived -- спасен или нет;\n",
    "* pclass -- социально-экономический статус (1 -- upper, 2 -- middle, 3 -- lower);\n",
    "* sex -- пол;\n",
    "* age -- возраст;\n",
    "* sibsp -- число ближайших родственников на борту (муж/жена, брат/сестра);\n",
    "* parch -- число родителей/детей на борту;\n",
    "* fare -- плата за проезд;\n",
    "* embarked -- место посадки."
   ]
  },
  {
   "cell_type": "code",
   "execution_count": 11,
   "metadata": {},
   "outputs": [
    {
     "name": "stdout",
     "output_type": "stream",
     "text": [
      "Shape: (714, 5)\n"
     ]
    },
    {
     "data": {
      "text/html": [
       "<div>\n",
       "<style scoped>\n",
       "    .dataframe tbody tr th:only-of-type {\n",
       "        vertical-align: middle;\n",
       "    }\n",
       "\n",
       "    .dataframe tbody tr th {\n",
       "        vertical-align: top;\n",
       "    }\n",
       "\n",
       "    .dataframe thead th {\n",
       "        text-align: right;\n",
       "    }\n",
       "</style>\n",
       "<table border=\"1\" class=\"dataframe\">\n",
       "  <thead>\n",
       "    <tr style=\"text-align: right;\">\n",
       "      <th></th>\n",
       "      <th>pclass</th>\n",
       "      <th>sex</th>\n",
       "      <th>age</th>\n",
       "      <th>fare</th>\n",
       "      <th>survived</th>\n",
       "    </tr>\n",
       "  </thead>\n",
       "  <tbody>\n",
       "    <tr>\n",
       "      <th>0</th>\n",
       "      <td>3</td>\n",
       "      <td>male</td>\n",
       "      <td>22.0</td>\n",
       "      <td>7.2500</td>\n",
       "      <td>0</td>\n",
       "    </tr>\n",
       "    <tr>\n",
       "      <th>1</th>\n",
       "      <td>1</td>\n",
       "      <td>female</td>\n",
       "      <td>38.0</td>\n",
       "      <td>71.2833</td>\n",
       "      <td>1</td>\n",
       "    </tr>\n",
       "    <tr>\n",
       "      <th>2</th>\n",
       "      <td>3</td>\n",
       "      <td>female</td>\n",
       "      <td>26.0</td>\n",
       "      <td>7.9250</td>\n",
       "      <td>1</td>\n",
       "    </tr>\n",
       "    <tr>\n",
       "      <th>3</th>\n",
       "      <td>1</td>\n",
       "      <td>female</td>\n",
       "      <td>35.0</td>\n",
       "      <td>53.1000</td>\n",
       "      <td>1</td>\n",
       "    </tr>\n",
       "    <tr>\n",
       "      <th>4</th>\n",
       "      <td>3</td>\n",
       "      <td>male</td>\n",
       "      <td>35.0</td>\n",
       "      <td>8.0500</td>\n",
       "      <td>0</td>\n",
       "    </tr>\n",
       "  </tbody>\n",
       "</table>\n",
       "</div>"
      ],
      "text/plain": [
       "   pclass     sex   age     fare  survived\n",
       "0       3    male  22.0   7.2500         0\n",
       "1       1  female  38.0  71.2833         1\n",
       "2       3  female  26.0   7.9250         1\n",
       "3       1  female  35.0  53.1000         1\n",
       "4       3    male  35.0   8.0500         0"
      ]
     },
     "execution_count": 11,
     "metadata": {},
     "output_type": "execute_result"
    }
   ],
   "source": [
    "frame = sns.load_dataset('titanic')\n",
    "frame = frame[['pclass', 'sex', 'age', 'fare', 'survived']].dropna()\n",
    "\n",
    "print('Shape:', frame.shape)\n",
    "frame.head()"
   ]
  },
  {
   "cell_type": "markdown",
   "metadata": {},
   "source": [
    "Готовим данные:"
   ]
  },
  {
   "cell_type": "code",
   "execution_count": 12,
   "metadata": {},
   "outputs": [],
   "source": [
    "X = frame[['pclass', 'sex', 'age', 'fare']].copy()\n",
    "y = frame['survived'].copy()"
   ]
  },
  {
   "cell_type": "markdown",
   "metadata": {},
   "source": [
    "Разбиваем данные на train, valid, test:"
   ]
  },
  {
   "cell_type": "code",
   "execution_count": 13,
   "metadata": {},
   "outputs": [
    {
     "name": "stdout",
     "output_type": "stream",
     "text": [
      "Train size: 513\n",
      "Valid size: 58\n",
      "Test size: 143\n"
     ]
    }
   ],
   "source": [
    "from sklearn.model_selection import train_test_split\n",
    "\n",
    "\n",
    "X_fit, X_test, y_fit, y_test = train_test_split(X, y, test_size=0.2, random_state=42)\n",
    "X_train, X_valid, y_train, y_valid = train_test_split(X_fit, y_fit, test_size=0.1, random_state=42)\n",
    "\n",
    "print('Train size:', X_train.shape[0])\n",
    "print('Valid size:', X_valid.shape[0])\n",
    "print('Test size:', X_test.shape[0])"
   ]
  },
  {
   "cell_type": "markdown",
   "metadata": {},
   "source": [
    "## Строим модель\n",
    "\n",
    "Как и в задаче регрессии:\n",
    "* создадим transformer, который нормализует числовые и закодирует категориальные признаки;\n",
    "* создадим estimator, который по признакам будет предсказывать целевую переменную (выживет ли человек);\n",
    "* объединим transformer и estimator в единый pipeline."
   ]
  },
  {
   "cell_type": "code",
   "execution_count": 14,
   "metadata": {},
   "outputs": [
    {
     "data": {
      "text/plain": [
       "ColumnTransformer(transformers=[('standardscaler', StandardScaler(),\n",
       "                                 ['age', 'fare']),\n",
       "                                ('onehotencoder',\n",
       "                                 OneHotEncoder(drop='first', sparse=False),\n",
       "                                 ['pclass', 'sex'])])"
      ]
     },
     "execution_count": 14,
     "metadata": {},
     "output_type": "execute_result"
    }
   ],
   "source": [
    "transformer = make_column_transformer(\n",
    "    (StandardScaler(), ['age', 'fare']),\n",
    "    (OneHotEncoder(sparse=False, drop='first'), ['pclass', 'sex'])\n",
    ")\n",
    "transformer"
   ]
  },
  {
   "cell_type": "code",
   "execution_count": 15,
   "metadata": {},
   "outputs": [
    {
     "data": {
      "text/plain": [
       "LogisticRegression(penalty='none')"
      ]
     },
     "execution_count": 15,
     "metadata": {},
     "output_type": "execute_result"
    }
   ],
   "source": [
    "from sklearn.linear_model import LogisticRegression\n",
    "\n",
    "\n",
    "estimator = LogisticRegression(penalty='none')\n",
    "estimator"
   ]
  },
  {
   "cell_type": "markdown",
   "metadata": {},
   "source": [
    "Учим модель:"
   ]
  },
  {
   "cell_type": "code",
   "execution_count": 16,
   "metadata": {},
   "outputs": [],
   "source": [
    "model = make_pipeline(transformer, estimator)\n",
    "model.fit(X_train, y_train)\n",
    "\n",
    "pred_train = model.predict(X_train)\n",
    "pred_valid = model.predict(X_valid)\n",
    "\n",
    "prob_valid = model.predict_proba(X_valid)"
   ]
  },
  {
   "cell_type": "markdown",
   "metadata": {},
   "source": [
    "Считаем метрики:"
   ]
  },
  {
   "cell_type": "code",
   "execution_count": 17,
   "metadata": {},
   "outputs": [],
   "source": [
    "from sklearn.metrics import (\n",
    "    accuracy_score,\n",
    "    precision_score,\n",
    "    recall_score,\n",
    "    f1_score,\n",
    "    roc_auc_score,\n",
    "    roc_curve\n",
    ")\n",
    "\n",
    "\n",
    "def classification_metrics(true, pred, prob=None, plot=False):\n",
    "    acc = accuracy_score(true, pred)\n",
    "    prec = precision_score(true, pred)\n",
    "    rec = recall_score(true, pred)\n",
    "    f1 = f1_score(true, pred)\n",
    "    roc_auc = roc_auc_score(true, pred)\n",
    "    \n",
    "    print('Accuracy:', acc)\n",
    "    print('Precision:', prec)\n",
    "    print('Recall:', rec)\n",
    "    print('F1-score:', f1)\n",
    "    print('AUC ROC:', roc_auc)\n",
    "    print()\n",
    "    \n",
    "    if plot:\n",
    "        assert prob is not None, 'prob should be non-None'\n",
    "        plt.figure(0, (6, 6))\n",
    "        fpr, tpr, _ = roc_curve(true, prob[:, 1])\n",
    "        plt.plot(fpr, tpr)\n",
    "        plt.plot([0, 1], [0, 1], ls='--', label='random choice')\n",
    "        plt.xlabel('False Positive Rate')\n",
    "        plt.ylabel('True Positive Rate')\n",
    "        plt.title('ROC-curve')\n",
    "        plt.legend()\n",
    "        plt.show()"
   ]
  },
  {
   "cell_type": "code",
   "execution_count": 18,
   "metadata": {},
   "outputs": [
    {
     "name": "stdout",
     "output_type": "stream",
     "text": [
      "Train:\n",
      "Accuracy: 0.8070175438596491\n",
      "Precision: 0.7766497461928934\n",
      "Recall: 0.7355769230769231\n",
      "F1-score: 0.7555555555555556\n",
      "AUC ROC: 0.795657313997478\n",
      "\n",
      "Valid:\n",
      "Accuracy: 0.7758620689655172\n",
      "Precision: 0.782608695652174\n",
      "Recall: 0.6923076923076923\n",
      "F1-score: 0.7346938775510203\n",
      "AUC ROC: 0.7680288461538461\n",
      "\n"
     ]
    },
    {
     "data": {
      "image/png": "[encoded data removed]",
      "text/plain": [
       "<Figure size 432x432 with 1 Axes>"
      ]
     },
     "metadata": {},
     "output_type": "display_data"
    }
   ],
   "source": [
    "print('Train:')\n",
    "classification_metrics(y_train, pred_train)\n",
    "\n",
    "print('Valid:')\n",
    "classification_metrics(y_valid, pred_valid, prob_valid, plot=True)"
   ]
  },
  {
   "cell_type": "markdown",
   "metadata": {},
   "source": [
    "__Задача (5 минут):__ \n",
    "* обучить модель с регуляризацией;\n",
    "* посчитать метрики на тренировочной выборке и валидационной выборке."
   ]
  },
  {
   "cell_type": "code",
   "execution_count": null,
   "metadata": {},
   "outputs": [],
   "source": []
  },
  {
   "cell_type": "markdown",
   "metadata": {},
   "source": [
    "__Задача (5 минут):__ \n",
    "* выбрать метрику для отбора параметра регуляризации;\n",
    "* построить график зависимости метрики от параметра;\n",
    "* найти лучшие параметры регуляризации по выбранной метрике."
   ]
  },
  {
   "cell_type": "code",
   "execution_count": null,
   "metadata": {},
   "outputs": [],
   "source": []
  },
  {
   "cell_type": "markdown",
   "metadata": {},
   "source": [
    "__Задача (5 минут):__ \n",
    "* обучить итоговую модель с лучшими параметрами на полной тренировочной выборке (train + valid);\n",
    "* оценить итоговую модель на выборке Test."
   ]
  },
  {
   "cell_type": "code",
   "execution_count": null,
   "metadata": {},
   "outputs": [],
   "source": []
  },
  {
   "cell_type": "markdown",
   "metadata": {},
   "source": [
    "# 3. Упражнения\n",
    "* реализовать функции вычисления метрик регрессии;\n",
    "* реализовать функции вычисления метрик классификации;\n",
    "* реализовать функцию вычисления ROC-кривой."
   ]
  },
  {
   "cell_type": "markdown",
   "metadata": {},
   "source": [
    "### 3.1. Регрессия"
   ]
  },
  {
   "cell_type": "code",
   "execution_count": 19,
   "metadata": {},
   "outputs": [],
   "source": [
    "N = 128\n",
    "\n",
    "true = np.random.normal(0, 1, size=N)\n",
    "pred = np.random.normal(0, 1, size=N)"
   ]
  },
  {
   "cell_type": "code",
   "execution_count": null,
   "metadata": {},
   "outputs": [],
   "source": [
    "def mae(true, pred):\n",
    "    return np.zeros_like(true).mean()\n",
    "\n",
    "assert np.isclose(mae(true, pred), mean_absolute_error(true, pred)), 'Wrong answer'"
   ]
  },
  {
   "cell_type": "code",
   "execution_count": null,
   "metadata": {},
   "outputs": [],
   "source": [
    "def mse(true, pred):\n",
    "    return np.zeros_like(true).mean()\n",
    "\n",
    "assert np.isclose(mse(true, pred), mean_squared_error(true, pred)), 'Wrong answer'"
   ]
  },
  {
   "cell_type": "code",
   "execution_count": null,
   "metadata": {},
   "outputs": [],
   "source": [
    "def r2(true, pred):\n",
    "    return np.zeros_like(true).mean()\n",
    "\n",
    "assert np.isclose(r2(true, pred), r2_score(true, pred)), 'Wrong answer'"
   ]
  },
  {
   "cell_type": "markdown",
   "metadata": {},
   "source": [
    "## 3.2. Классификация"
   ]
  },
  {
   "cell_type": "code",
   "execution_count": null,
   "metadata": {},
   "outputs": [],
   "source": [
    "N = 128\n",
    "\n",
    "true = np.random.choice(2, size=N)\n",
    "prob = np.random.uniform(size=N)\n",
    "pred = (prob > 0.9).astype(float)"
   ]
  },
  {
   "cell_type": "code",
   "execution_count": null,
   "metadata": {},
   "outputs": [],
   "source": [
    "def accuracy(true, pred):\n",
    "    return np.zeros_like(true).mean()\n",
    "\n",
    "assert np.isclose(accuracy(true, pred), accuracy_score(true, pred)), 'Wrong answer'"
   ]
  },
  {
   "cell_type": "code",
   "execution_count": null,
   "metadata": {},
   "outputs": [],
   "source": [
    "def recall(true, pred):\n",
    "    return np.zeros_like(true).mean()\n",
    "\n",
    "assert np.isclose(recall(true, pred), recall_score(true, pred)), 'Wrong answer'"
   ]
  },
  {
   "cell_type": "code",
   "execution_count": null,
   "metadata": {},
   "outputs": [],
   "source": [
    "def precision(true, pred):\n",
    "    return np.zeros_like(true).mean()\n",
    "\n",
    "assert np.isclose(precision(true, pred), precision_score(true, pred)), 'Wrong answer'"
   ]
  },
  {
   "cell_type": "markdown",
   "metadata": {},
   "source": [
    "## 3.3. ROC-кривая"
   ]
  },
  {
   "cell_type": "code",
   "execution_count": null,
   "metadata": {},
   "outputs": [],
   "source": [
    "def roc(true, prob):\n",
    "    return np.linspace(0, 1, true.shape[0]), np.linspace(0, 1, true.shape[0])\n",
    "\n",
    "fpr, tpr = roc(true, prob)\n",
    "fpr_gt, tpr_gt, _ = roc_curve(true, prob)\n",
    "\n",
    "plt.figure(0, (6, 6))\n",
    "plt.plot(fpr, tpr, label='Ours', color='blue')\n",
    "plt.plot(fpr_gt, tpr_gt, label='GT', color='green')\n",
    "plt.plot([0, 1], [0, 1], ls='--', color='purple', label='random choice')\n",
    "plt.xlabel('False Positive Rate')\n",
    "plt.ylabel('True Positive Rate')\n",
    "plt.title('ROC-curve')\n",
    "plt.legend()\n",
    "plt.show()"
   ]
  },
  {
   "cell_type": "code",
   "execution_count": null,
   "metadata": {},
   "outputs": [],
   "source": []
  }
 ],
 "metadata": {
  "kernelspec": {
   "display_name": "Python 3.7.9 venv",
   "language": "python",
   "name": "python37"
  },
  "language_info": {
   "codemirror_mode": {
    "name": "ipython",
    "version": 3
   },
   "file_extension": ".py",
   "mimetype": "text/x-python",
   "name": "python",
   "nbconvert_exporter": "python",
   "pygments_lexer": "ipython3",
   "version": "3.7.9"
  }
 },
 "nbformat": 4,
 "nbformat_minor": 4
}
